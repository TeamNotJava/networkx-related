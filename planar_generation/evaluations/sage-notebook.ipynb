{
 "cells": [
  {
   "cell_type": "markdown",
   "metadata": {},
   "source": [
    "# Computing all needed oracly queries"
   ]
  },
  {
   "cell_type": "markdown",
   "metadata": {},
   "source": [
    "## Evaluations directly extracted from the notebook:"
   ]
  },
  {
   "cell_type": "markdown",
   "metadata": {},
   "source": [
    "|Evaluation | Maple output number |\n",
    "|---|---|\n",
    "|x | (5.2.4) |\n",
    "|y | (5.3.5) |\n",
    "|R_b(x*G_1_dx(x,y),D(x*G_1_dx(x,y),y)) | - |\n",
    "|R_w(x*G_1_dx(x,y),D(x*G_1_dx(x,y),y)) | - |\n",
    "|K(x*G_1_dx(x,y),D(x*G_1_dx(x,y),y)) | - |\n",
    "|K_dx(x*G_1_dx(x,y),D(x*G_1_dx(x,y),y)) | - |\n",
    "|J_a(x*G_1_dx(x,y),D(x*G_1_dx(x,y),y)) | - |\n",
    "|J_a_dx(x*G_1_dx(x,y),D(x*G_1_dx(x,y),y)) | - |\n",
    "|G_3_arrow_dy(x*G_1_dx(x,y),D(x*G_1_dx(x,y),y)) | - |\n",
    "|D(x*G_1_dx(x,y),y) | (5.7.1) |\n",
    "|D_dx(x*G_1_dx(x,y),y) | (5.8.1) |\n",
    "|P(x*G_1_dx(x,y),y) | (5.7.1) |\n",
    "|P_dx(x*G_1_dx(x,y),y) | (5.8.1) |\n",
    "|S(x*G_1_dx(x,y),y) | (5.7.1) |\n",
    "|S_dx(x*G_1_dx(x,y),y) | (5.8.1) |\n",
    "|H(x*G_1_dx(x,y),y) | (5.7.1) |\n",
    "|H_dx(x*G_1_dx(x,y | (5.8.1) |\n",
    "|G_2_dx(x*G_1_dx(x,y),y) | (5.10.1) |\n",
    "|G_2_dx_dx(x*G_1_dx(x,y),y) | (5.10.1) |\n",
    "|G_1(x,y) | (5.11.1) |\n",
    "|G_1_dx(x,y) | (5.11.1) |\n",
    "|x*G_1_dx(x,y) | (5.1) |\n",
    "|G_1_dx_dx(x,y) | (5.11.1) |\n",
    "|Fusy_K | (5.7.1) |\n",
    "|Fusy_K_dx | (5.6.2) |\n",
    "|Fusy_K_dy | (5.6.2) |"
   ]
  },
  {
   "cell_type": "markdown",
   "metadata": {},
   "source": [
    "In the following datasets, at least these keys still have to be computed by us:"
   ]
  },
  {
   "cell_type": "code",
   "execution_count": 1,
   "metadata": {},
   "outputs": [],
   "source": [
    "#    'R_b(x*G_1_dx(x,y),D(x*G_1_dx(x,y),y))'\n",
    "#    'R_w(x*G_1_dx(x,y),D(x*G_1_dx(x,y),y))'\n",
    "#    'K(x*G_1_dx(x,y),D(x*G_1_dx(x,y),y))'\n",
    "#    'K_dx(x*G_1_dx(x,y),D(x*G_1_dx(x,y),y))'\n",
    "#    \n",
    "#    'J_a(x*G_1_dx(x,y),D(x*G_1_dx(x,y),y))'\n",
    "#    'J_a_dx(x*G_1_dx(x,y),D(x*G_1_dx(x,y),y))'\n",
    "#    'G_3_arrow_dy(x*G_1_dx(x,y),D(x*G_1_dx(x,y),y))'"
   ]
  },
  {
   "cell_type": "code",
   "execution_count": 2,
   "metadata": {},
   "outputs": [],
   "source": [
    "evals_N100 = {\n",
    "    'x': 0.3654477051892902919200923409811523110400e-1,\n",
    "    'y': 1.0,\n",
    "    \n",
    "    # networks\n",
    "    'D(x*G_1_dx(x,y),y)': 1.093478486474725492111842399417696010608,\n",
    "    'D_dx(x*G_1_dx(x,y),y)': 3.451022064348011578648038112452397128512,\n",
    "    'P(x*G_1_dx(x,y),y)': 0.4779863695398693227527355784782738099750e-1,\n",
    "    'P_dx(x*G_1_dx(x,y),y)': 1.802558950614611542287344528822830655467,\n",
    "    'S(x*G_1_dx(x,y),y)': 0.4361515427524571398409742800683958273997e-1,\n",
    "    'S_dx(x*G_1_dx(x,y),y)': 1.372021810211270146766289598795710294844,\n",
    "    'H(x*G_1_dx(x,y),y)': 0.2064695245492845852471413563029046870859e-2,\n",
    "    'H_dx(x*G_1_dx(x,y),y)': .2764413035221298895944039848338561782029,\n",
    "    \n",
    "    # two-connected\n",
    "    'G_2_dx(x*G_1_dx(x,y),y)': 0.388426837600132586311455233484252528740e-1,\n",
    "    'G_2_dx_dx(x*G_1_dx(x,y),y)': 1.050994403039639979803343196889988070416,\n",
    "    \n",
    "    # connected\n",
    "    'G_1(x,y)': 0.3724843050536904562026618779633113490724e-1,\n",
    "    'G_1_dx(x,y)': 1.039606923732873712783121705560922166006,\n",
    "    'x*G_1_dx(x,y)': 0.3799219645770762294669658295494863158974e-1,\n",
    "    'G_1_dx_dx(x,y)': 1.18313865354878748231121966431798325756,\n",
    "    \n",
    "    # rooted 3-connected\n",
    "    'Fusy_K': 0.2064695245492845852471413563029046870859e-2,\n",
    "    'Fusy_K_dx': .2133917468411490105532942082985417379907,\n",
    "    'Fusy_K_dy': 0.1826982137620513621333918972896108705372e-1\n",
    "}\n",
    "\n",
    "evals_N1000_mu2 = {\n",
    "    'x': 0.3671004837554730118332987887544339044065e-1,\n",
    "    'y': 0.613408306229252191639801077529145495803,\n",
    "    \n",
    "    # networks\n",
    "    'D(x*G_1_dx(x,y),y)': 0.6378066510545765437898681142810527822264,\n",
    "    'D_dx(x*G_1_dx(x,y),y)': 0.6965690042726500345532585019011878447966,\n",
    "    'P(x*G_1_dx(x,y),y)': 0.009389307794846823503367685024265925290141,\n",
    "    'P_dx(x*G_1_dx(x,y),y)': 0.2712629989367135261790793075467432239002,\n",
    "    'S(x*G_1_dx(x,y),y)': 0.01492665964732548705493085392223980102759,\n",
    "    'S_dx(x*G_1_dx(x,y),y)': 0.4202017319654289353197388817180985072044,\n",
    "    'H(x*G_1_dx(x,y),y)': 0.00008237738315204159176849780540156010563882,\n",
    "    'H_dx(x*G_1_dx(x,y),y)': 0.005104273370507573054440312636346113692047,\n",
    "    \n",
    "    # two-connected\n",
    "    'G_2_dx(x*G_1_dx(x,y),y)': 0.0232198422199723694378563488550817319507,\n",
    "    'G_2_dx_dx(x*G_1_dx(x,y),y)': 0.6228804782671340113535889991054538008629,\n",
    "    \n",
    "    # connected\n",
    "    'G_1(x,y)': 0.03713509741106124315771061764376254790037,\n",
    "    'G_1_dx(x,y)': 1.023491521464250900413721480849623130282,\n",
    "    'x*G_1_dx(x,y)': 0.3757242326491515950815050571789801796551e-1,\n",
    "    'G_1_dx_dx(x,y)': 0.66812525766868266204513199538499129785,\n",
    "    \n",
    "    # rooted 3-connected\n",
    "    'Fusy_K': 0.00008237738315204159176849780540156010563882,\n",
    "    'Fusy_K_dx': 0.004631182465884561148478148325325604268230,\n",
    "    'Fusy_K_dy': 0.0006791730635746682559979205991184105261205\n",
    "}\n",
    "\n",
    "evals_N1000 = {\n",
    "    'x': 0.3671004837554730118332987887544339044065e-1,\n",
    "    'y': 1.0,\n",
    "    \n",
    "    # networks\n",
    "    'D(x*G_1_dx(x,y),y)': 1.094103651373740044429494394465891982486,\n",
    "    'D_dx(x*G_1_dx(x,y),y)': 3.551965729334206919924802289039089931766,\n",
    "    'P(x*G_1_dx(x,y),y)': 0.4812522148701481441680506244061565264884e-1,\n",
    "    'P_dx(x*G_1_dx(x,y),y)':1.855790983158627812962558147304139239675 ,\n",
    "    'S(x*G_1_dx(x,y),y)': 0.04386152752101778809863502621745531557737,\n",
    "    'S_dx(x*G_1_dx(x,y),y)': 1.382089602561620915034737955399641736362,\n",
    "    'H(x*G_1_dx(x,y),y)': 0.2116902365707441914054305807821014259569e-2,\n",
    "    'H_dx(x*G_1_dx(x,y),y)': 0.3140851436139581919275061863353089557284,\n",
    "    \n",
    "    # two-connected\n",
    "    'G_2_dx(x*G_1_dx(x,y),y)': 0.390308777421869440479233115244022780089e-1,\n",
    "    'G_2_dx_dx(x*G_1_dx(x,y),y)': 1.051728458120470787988474464379696223455,\n",
    "    \n",
    "    # connected\n",
    "    'G_1(x,y)': 0.03742027067565388989818271031959114506453,\n",
    "    'G_1_dx(x,y)': 1.039802589910767442406763778733189582559,\n",
    "    'x*G_1_dx(x,y)': 0.3817120337664364493201496053920318081989e-1,\n",
    "    'G_1_dx_dx(x,y)': 1.18467744151122702784131859761940784803,\n",
    "    \n",
    "    # rooted 3-connected\n",
    "    'Fusy_K': 0.2116902365707441914054305807821014259569e-2,\n",
    "    'Fusy_K_dx': 0.2406691609668241673284056602486551724196,\n",
    "    'Fusy_K_dy': 0.2066911345478982909798196650221182214790e-1\n",
    "}\n",
    "\n",
    "evals_N10000 = {\n",
    "    # In this data set also higher order derivatives are included to calculate expected values.\n",
    "    \n",
    "    'x': 0.3672657616120912838246194335317620637431e-1,\n",
    "    'y': 1.0,\n",
    "    \n",
    "    # networks\n",
    "    'D(x*G_1_dx(x,y),y)': 1.094167491053268394363611393315191846989,\n",
    "    'D_dx(x*G_1_dx(x,y),y)': 3.584804999363061844502758878395689995407,\n",
    "    'D_dx_dx(x*G_1_dx(x,y),y)': 3844.445282838549753803461158222514160462,\n",
    "    'P(x*G_1_dx(x,y),y)': 0.4815857618724628897480927684861108580802e-1,\n",
    "    'P_dx(x*G_1_dx(x,y),y)': 1.873000659606038667668790757894996357916,\n",
    "    'P_dx_dx(x*G_1_dx(x,y),y)': 2011.588639575041056089920779709192208104,\n",
    "    'S(x*G_1_dx(x,y),y)': 0.4388629460482507723993229504399076251673e-1,\n",
    "    'S_dx(x*G_1_dx(x,y),y)': 1.384891569022488102107252606323467168185,\n",
    "    'S_dx_dx(x*G_1_dx(x,y),y)': 314.6385745343491289148053195218860855027,\n",
    "    'H(x*G_1_dx(x,y),y)': 0.2122620261197028148869821422589998664495e-2,\n",
    "    'H_dx(x*G_1_dx(x,y),y)': 0.3269127707345350747267155141772264693047,\n",
    "    'H_dx_dx(x*G_1_dx(x,y),y)': 1518.218068729159568798735058991435866854,\n",
    "    \n",
    "    # two-connected\n",
    "    'G_2_dx(x*G_1_dx(x,y),y)': 0.390497100513283735279023911609909732845e-1,\n",
    "    'G_2_dx_dx(x*G_1_dx(x,y),y)': 1.051898476119285300579975636104218927480,\n",
    "    'G_2_dx_dx_dx(x*G_1_dx(x,y),y)': 17.98724517374004629815793199602333861409,\n",
    "    \n",
    "    # connected\n",
    "    'G_1(x,y)': 0.3743745647180877655087152241832341434124e-1,\n",
    "    'G_1_dx(x,y)': 1.039822171978973903306270467977652135245,\n",
    "    'x*G_1_dx(x,y)': 0.3818910819329968147928321954229595072971e-1,\n",
    "    'G_1_dx_dx(x,y)': 1.18494484236796018449062644298828204386,\n",
    "    'G_1_dx_dx_dx(x,y)': 26.977173076155219138299636045357568003,\n",
    "    \n",
    "    # planar graphs\n",
    "    'G(x,y)': 1.038147065671058036592476858173312080310,\n",
    "    'G_dx(x,y)': 1.079488336659678024562533516788187660594,\n",
    "    'G_dx_dx(x,y)': 2.352622917937788477130551013006440290979,\n",
    "    'G_dx_dx_dx(x,y)': 33.01085081533090095256556058984201422517,\n",
    "    \n",
    "    \n",
    "    # rooted 3-connected\n",
    "    'Fusy_K': 0.2122620261197028148869821422589998664495e-2,\n",
    "    'Fusy_K_dx': 0.2499530807674110540354973905866345836004,\n",
    "    'Fusy_K_dx_dx': 840.1035728753025903769147482971877941990,\n",
    "    'Fusy_K_dy': 0.2146830580207235924699971455123496234501e-1,\n",
    "    'Fusy_K_dy_dy': 6.121424587459627584125963350337009905080,\n",
    "    'Fusy_k_dx_dy': 72.09811988668826846388079969453968945620,\n",
    "}\n",
    "\n",
    "# register new eval sets here\n",
    "eval_sets = [evals_N100, evals_N1000_mu2, evals_N1000, evals_N10000]"
   ]
  },
  {
   "cell_type": "markdown",
   "metadata": {},
   "source": [
    "## Computation of evaluations that cannot be extracted from the maple notebook directly"
   ]
  },
  {
   "cell_type": "markdown",
   "metadata": {},
   "source": [
    "Our only *todos* are generating functions that have to be evaluated at this weird values for x and y (this is due to the u-/l-substitutions we have in our decomposition):"
   ]
  },
  {
   "cell_type": "code",
   "execution_count": 3,
   "metadata": {},
   "outputs": [],
   "source": [
    "symb_x = 'x*G_1_dx(x,y)'\n",
    "symb_y = 'D(x*G_1_dx(x,y),y)'"
   ]
  },
  {
   "cell_type": "markdown",
   "metadata": {},
   "source": [
    "Some auxiliary functions."
   ]
  },
  {
   "cell_type": "code",
   "execution_count": 4,
   "metadata": {},
   "outputs": [],
   "source": [
    "def symb_eval(f, symb_x, symb_y):\n",
    "    return f + '(' + symb_x + ',' + symb_y + ')'\n",
    "\n",
    "def set_and_print(evals, var, symb_x, symb_y, sols):\n",
    "    print str(var) + ':'\n",
    "    real_sols = [float(sol[var]) for sol in sols if sol[var].imag() == 0 and sol[var] >= 0]\n",
    "    print(real_sols)\n",
    "    # The solution we are intereseted is the one with smallest positive real numbers.\n",
    "    evals[symb_eval(str(var), symb_x, symb_y)] = min(real_sols)"
   ]
  },
  {
   "cell_type": "markdown",
   "metadata": {},
   "source": [
    "**An open question is if we really want the smaller solution?** Most likely, yes."
   ]
  },
  {
   "cell_type": "markdown",
   "metadata": {},
   "source": [
    "### $R_b$ and $R_w$\n",
    "Recall the grammar:\n",
    "\n",
    "$R_w := (Z_U + R_b)^2$\n",
    "\n",
    "$R_b := (Z_U + R_w)^2 \\star Z_L$\n",
    "\n",
    "From this the equations below follow directly:"
   ]
  },
  {
   "cell_type": "code",
   "execution_count": 5,
   "metadata": {},
   "outputs": [
    {
     "name": "stdout",
     "output_type": "stream",
     "text": [
      "R_w:\n",
      "[2.577655310621243, 3.072738024837374]\n",
      "R_b:\n",
      "[0.5120292887029289, 0.659444182760245]\n",
      "R_w:\n",
      "[0.4674525884161968, 6.492505353319058]\n",
      "R_b:\n",
      "[0.04589839549189142, 1.910232923318503]\n",
      "R_w:\n",
      "[2.733773804897007, 2.890170236133992]\n",
      "R_b:\n",
      "[0.5593091186182373, 0.6059463986599665]\n",
      "R_w:\n",
      "[2.78591483387927, 2.835390946502057]\n",
      "R_b:\n",
      "[0.5749385151094553, 0.5896945042673686]\n"
     ]
    }
   ],
   "source": [
    "sage_variables = var('var_x, var_y, R_w, R_b')\n",
    "for evals in eval_sets:\n",
    "    eqx = var_x==evals[symb_x]\n",
    "    eqy = var_y==evals[symb_y]\n",
    "    eq1 = R_w==(var_y + R_b)^2\n",
    "    eq2 = R_b==(var_y + R_w)^2 * var_x\n",
    "\n",
    "    eqns = [eq1,eq2,eqx,eqy]\n",
    "    \n",
    "    set_and_print(evals, R_w, symb_x, symb_y, solve(eqns, sage_variables, solution_dict=True))\n",
    "    set_and_print(evals, R_b, symb_x, symb_y, solve(eqns, sage_variables, solution_dict=True))"
   ]
  },
  {
   "cell_type": "markdown",
   "metadata": {},
   "source": [
    "### $K$"
   ]
  },
  {
   "cell_type": "markdown",
   "metadata": {},
   "source": [
    "We do $\\underline{K}$ (K_dy) first as we will need it here. We have this longish grammar in the paper:"
   ]
  },
  {
   "cell_type": "code",
   "execution_count": 6,
   "metadata": {
    "scrolled": true
   },
   "outputs": [
    {
     "name": "stdout",
     "output_type": "stream",
     "text": [
      "K_dy:\n",
      "[2.372270742358078, 1.729773462783172]\n",
      "K_dy:\n",
      "[7.972725788012412, 0.08333800369892955]\n",
      "K_dy:\n",
      "[2.133670520231214, 1.93063670411985]\n",
      "K_dy:\n",
      "[2.062381852551985, 1.998149518874907]\n"
     ]
    }
   ],
   "source": [
    "sage_variables = var('var_x var_y R_w R_b R_w_hat R_b_hat R_w_as R_b_as K_dy')\n",
    "for evals in eval_sets:\n",
    "    eqx = var_x==evals[symb_x]\n",
    "    eqy = var_y==evals[symb_y]\n",
    "    eq1 = R_w==(var_y + R_b)^2\n",
    "    eq2 = R_b==(var_y + R_w)^2 * var_x\n",
    "    eq3 = R_w_hat==var_y + 2*var_y*R_b + R_b^2\n",
    "    eq4 = R_b_hat==2*R_w_hat*var_x*var_y^2 + var_x*R_w_hat^2\n",
    "    eq5 = R_w_as==2*var_y*R_b_hat + R_b^2\n",
    "    eq6 = R_b_as==2*var_x*var_y*R_w + var_x*R_w^2\n",
    "    eq7 = K_dy==R_b_as + R_w_as\n",
    "\n",
    "    eqns = [eq1,eq2,eq3,eq4,eq5,eq6,eq7,eqx,eqy]\n",
    "    set_and_print(evals, K_dy, symb_x, symb_y, solve(eqns,sage_variables,solution_dict=True))"
   ]
  },
  {
   "cell_type": "markdown",
   "metadata": {},
   "source": [
    "We make a little experiment here. It should be possible to obtain the value of $\\underline{K}$ = K_dy by subtracting the terms that corresponds to the non-assymetric trees from the generating function ignoring the symmetrie."
   ]
  },
  {
   "attachments": {
    "grafik.png": {
     "image/png": "[encoded data removed]"
    }
   },
   "cell_type": "markdown",
   "metadata": {},
   "source": [
    "![grafik.png](attachment:grafik.png)"
   ]
  },
  {
   "cell_type": "code",
   "execution_count": 7,
   "metadata": {
    "scrolled": true
   },
   "outputs": [
    {
     "name": "stdout",
     "output_type": "stream",
     "text": [
      "K_dy:\n",
      "[2.372270742358078, 1.729773462783172]\n",
      "K_dy:\n",
      "[7.972725788012412, 0.08333800369892955]\n",
      "K_dy:\n",
      "[2.133670520231214, 1.93063670411985]\n",
      "K_dy:\n",
      "[2.062381852551985, 1.998149518874907]\n"
     ]
    }
   ],
   "source": [
    "# try to get K_dy with subtraction\n",
    "sage_variables = var('var_x var_y R_w R_b K_dy')\n",
    "for evals in eval_sets:\n",
    "    eqx = var_x==evals[symb_x]\n",
    "    eqy = var_y==evals[symb_y]\n",
    "    eq1 = R_w==(var_y + R_b)^2\n",
    "    eq2 = R_b==(var_y + R_w)^2 * var_x\n",
    "    # explanation of this term: Figure 7 (a): the first one is impossible with this grammar because it has u-size 1.\n",
    "    # The smallest u-size this grammar can produce is 2.\n",
    "    # The others are possible:\n",
    "    # One leaf does not count, so x*y^2 instead of x*y^3 (for the second one). The 4th has two\n",
    "    # different appearances when rooted at a leaf, so it's *2.\n",
    "    eq3 = K_dy==R_w+R_b - (var_x*var_y^2 + var_y^2 + 2*var_x*var_y^5)\n",
    "\n",
    "    eqns = [eq1,eq2,eq3,eqx,eqy]\n",
    "    set_and_print(evals, K_dy, symb_x, symb_y, solve(eqns,sage_variables,solution_dict=True))"
   ]
  },
  {
   "cell_type": "markdown",
   "metadata": {},
   "source": [
    "The values are the same. So it works, nice."
   ]
  },
  {
   "cell_type": "markdown",
   "metadata": {},
   "source": [
    "We have to dome some tricky stuff to get $K(x,y)$.\n",
    "\n",
    "Lets consider the class $\\widetilde{\\mathcal{K}}$ of bicolored binary trees rooted at an *edge* such that the underlying unrooted tree is assymetric. As always, we let the u-size of such a tree be the number of leaves and the l-size the number of (inner) black nodes (we don't discard anything.)\n",
    "\n",
    "For every unrooted tree $\\gamma \\in \\mathcal{K}$ we have $e$ distinct objects in $\\widetilde{\\mathcal{K}}$ where $e$ is the number of edges. (Proof?) This works because the tree is assymetric.\n",
    "\n",
    "It is easy to show that it holds that $e = ||\\gamma|| - 3$, i.e. there are exactly 3 more leaves than edges in any of the trees in $\\mathcal{K}$. (Notice that there is no problem with this equality because the trees in $\\mathcal{K}$ have at least 4 leaves, any tree with 3 or less leaves is assymetric.)\n",
    "\n",
    "Summarizing this, we have the following term for the generating function of $\\widetilde{\\mathcal{K}}$ ($n$ and $m$ are the numbers of l-atoms/u-atoms respectively):\n",
    "$$\\widetilde{K}(x,y) = \\sum_{n,m}(m-3)\\ |\\mathcal{K}_{n,m}|\\ \\frac{x^n}{n!}y^m$$\n",
    "\n",
    "By 3.4.2. (2) it is also true that\n",
    "$$\\underline{K}(x,y) = \\sum_{n,m}m\\ |\\mathcal{K}_{n,m}|\\ \\frac{x^n}{n!}y^{m-1}$$\n",
    "\n",
    "Here $\\underline{\\mathcal{K}}$ is the class of leaf-rooted bicolored binary trees (the root leaf doesn't count) such that the underlying tree is assymetric. For this we can already evaluate the generating function.\n",
    "\n",
    "Now multiplying $\\underline{K}(x,y)$ by $y$ and subtracting the 2 generating functions we obtain:\n",
    "$$y\\underline{K}(x,y) -\\widetilde{K}(x,y) = 3\\sum_{n,m}\\ |\\mathcal{K}_{n,m}|\\ \\frac{x^n}{n!}y^{m} = 3K(x,y)$$\n",
    "\n",
    "So\n",
    "$$K(x,y) = \\frac{1}{3}(y\\underline{K}(x,y) -\\widetilde{K}(x,y))$$\n",
    "\n",
    "\n",
    "We can easily write down an \"almost\" grammar for $\\widetilde{\\mathcal{K}}$:\n",
    "\n",
    "$\\widetilde{\\mathcal{K}} :\\approx R_w\\star R_b$\n",
    "\n",
    "$R_w := (Z_U + R_b)^2$\n",
    "\n",
    "$R_b := (Z_U + R_w)^2 \\star Z_L$\n",
    "\n",
    "This contains only one non-asymmetric tree, the fourth one of figure 7 (1 black node, 6 leaves). So we just have to subtract $xy^6$."
   ]
  },
  {
   "cell_type": "code",
   "execution_count": 8,
   "metadata": {
    "scrolled": true
   },
   "outputs": [
    {
     "name": "stdout",
     "output_type": "stream",
     "text": [
      "K_snake:\n",
      "[1.254888507718696, 1.961352378758208]\n",
      "K_snake:\n",
      "[0.01892600615665261, 12.39966832504146]\n",
      "K_snake:\n",
      "[1.463547995139733, 1.685811696826646]\n",
      "K_snake:\n",
      "[1.536199432751157, 1.606484424666243]\n"
     ]
    }
   ],
   "source": [
    "sage_variables = var('var_x var_y R_w R_b Start K_snake')\n",
    "for evals in eval_sets:\n",
    "    eqx = var_x==evals[symb_x]\n",
    "    eqy = var_y==evals[symb_y]\n",
    "    eq0 = Start==R_w*R_b\n",
    "    eq1 = R_w==(var_y+R_b)^2\n",
    "    eq2 = R_b==var_x*(var_y+R_w)^2\n",
    "    eq3 = K_snake==Start - var_x*var_y^6\n",
    "\n",
    "    eqns = [eq0,eq1,eq2,eq3,eqx,eqy]\n",
    "    set_and_print(evals, K_snake, symb_x, symb_y, solve(eqns,sage_variables,solution_dict=True))"
   ]
  },
  {
   "cell_type": "markdown",
   "metadata": {},
   "source": [
    "Now we can plug the values into $K(x,y) = \\frac{1}{3}(y\\underline{K}(x,y) -\\widetilde{K}(x,y))$"
   ]
  },
  {
   "cell_type": "code",
   "execution_count": 9,
   "metadata": {
    "scrolled": true
   },
   "outputs": [
    {
     "name": "stdout",
     "output_type": "stream",
     "text": [
      "K:\n",
      "0.212193853437\n",
      "K:\n",
      "0.0114091756294\n",
      "K:\n",
      "0.216256224105\n",
      "K:\n",
      "0.216703604355\n"
     ]
    }
   ],
   "source": [
    "for evals in eval_sets:\n",
    "    y = evals[symb_y]\n",
    "    K = 1/3 * (y*evals[symb_eval('K_dy', symb_x, symb_y)] - evals[symb_eval('K_snake', symb_x, symb_y)])\n",
    "    print('K:')\n",
    "    print(K)\n",
    "    evals[symb_eval('K', symb_x, symb_y)] = K"
   ]
  },
  {
   "cell_type": "markdown",
   "metadata": {},
   "source": [
    "### $K'$ (K_dx)"
   ]
  },
  {
   "cell_type": "markdown",
   "metadata": {},
   "source": [
    "From the equation for $K$ from above it follows that\n",
    "\n",
    "$K'(x,y) = \\frac{1}{3}(y\\underline{K}'(x,y) -\\widetilde{K}'(x,y))$\n",
    "\n",
    "So we have to do some derivation work. We do $\\widetilde{K}'(x,y)$ first.\n",
    "\n",
    "$\\widetilde{K}' = (R_w R_b)' - y^6$\n",
    "\n",
    "$(R_w R_b)' = R_w'R_b + R_wR_b'$\n",
    "\n",
    "$R_w' = 2(y+R_b)R_b'$\n",
    "\n",
    "$R_b' = (y+R_w)^2 + 2x(y+R_w)R_w' = (y+R_w)(2xR_w' + (y+R_w))$"
   ]
  },
  {
   "cell_type": "code",
   "execution_count": 10,
   "metadata": {},
   "outputs": [
    {
     "name": "stdout",
     "output_type": "stream",
     "text": [
      "K_snake_dx:\n",
      "[543.8610354223433]\n",
      "K_snake_dx:\n",
      "[0.6633751107735156]\n",
      "K_snake_dx:\n",
      "[1994.14705882353]\n",
      "K_snake_dx:\n",
      "[6613.412698412699]\n"
     ]
    }
   ],
   "source": [
    "sage_variables = var('var_x var_y R_w R_b R_w_dx R_b_dx Start_dx K_snake_dx ')\n",
    "for evals in eval_sets:\n",
    "    eqx = var_x==evals[symb_x]\n",
    "    eqy = var_y==evals[symb_y]\n",
    "    eq0 = Start_dx==R_w_dx*R_b + R_w*R_b_dx\n",
    "    eq1 = R_w==(var_y+R_b)^2\n",
    "    eq2 = R_b==var_x*(var_y+R_w)^2\n",
    "    eq3 = R_w_dx==2*(var_y+R_b)*R_b_dx\n",
    "    eq4 = R_b_dx==(var_y+R_w)*(2*var_x*R_w_dx + var_y+R_w)\n",
    "    eq5 = K_snake_dx==Start_dx - var_y^6\n",
    "\n",
    "    eqns = [eq0,eq1,eq2,eq3,eq4,eq5,eqx,eqy]\n",
    "    # we actually don't need K_snake_dx later in the oracle but I don't care right now\n",
    "    set_and_print(evals, K_snake_dx, symb_x, symb_y, solve(eqns, sage_variables, solution_dict=True))"
   ]
  },
  {
   "cell_type": "markdown",
   "metadata": {},
   "source": [
    "$\\underline{K}' = R_b' + R_w'$\n",
    "\n",
    "$R_w' = 2(y+R_b)R_b'$\n",
    "\n",
    "$R_b' = (y+R_w)^2 + 2x(y+R_w)R_w' = (y+R_w)(2xR_w' + (y+R_w))$"
   ]
  },
  {
   "cell_type": "code",
   "execution_count": 11,
   "metadata": {},
   "outputs": [
    {
     "name": "stdout",
     "output_type": "stream",
     "text": [
      "K_dy_dx:\n",
      "[539.8558558558559]\n",
      "R_w_dx:\n",
      "[414.9509202453988]\n",
      "R_b_dx:\n",
      "[129.2273161413563]\n",
      "K_dy_dx:\n",
      "[2.644658753709199]\n",
      "R_w_dx:\n",
      "[1.884440658716638]\n",
      "R_b_dx:\n",
      "[1.378109452736318]\n",
      "K_dy_dx:\n",
      "[1871.130434782609]\n",
      "R_w_dx:\n",
      "[1440.0]\n",
      "R_b_dx:\n",
      "[435.462962962963]\n",
      "K_dy_dx:\n",
      "[6094.863636363636]\n",
      "R_w_dx:\n",
      "[4693.272727272727]\n",
      "R_b_dx:\n",
      "[1405.924242424242]\n"
     ]
    }
   ],
   "source": [
    "sage_variables = var('var_x var_y R_w R_b R_w_dx R_b_dx K_dy_dx')\n",
    "for evals in eval_sets:\n",
    "    eqx = var_x==evals[symb_x]\n",
    "    eqy = var_y==evals[symb_y]\n",
    "    eq1 = R_w==(var_y+R_b)^2\n",
    "    eq2 = R_b==var_x*(var_y+R_w)^2\n",
    "    eq3 = R_w_dx==2*(var_y+R_b)*R_b_dx\n",
    "    eq4 = R_b_dx==(var_y+R_w)*(2*var_x*R_w_dx + var_y+R_w)\n",
    "    eq5 = K_dy_dx==R_w_dx + R_b_dx - (var_y^2 +2*var_y^5)\n",
    "\n",
    "    eqns = [eq1,eq2,eq3,eq4,eq5,eqx,eqy]\n",
    "    set_and_print(evals, K_dy_dx, symb_x, symb_y, solve(eqns, sage_variables, solution_dict=True))\n",
    "    set_and_print(evals, R_w_dx, symb_x, symb_y, solve(eqns, sage_variables, solution_dict=True))\n",
    "    set_and_print(evals, R_b_dx, symb_x, symb_y, solve(eqns, sage_variables, solution_dict=True))"
   ]
  },
  {
   "cell_type": "code",
   "execution_count": 12,
   "metadata": {},
   "outputs": [
    {
     "name": "stdout",
     "output_type": "stream",
     "text": [
      "K_dx:\n",
      "15.4865762511\n",
      "K_dx:\n",
      "0.341135277371\n",
      "K_dx:\n",
      "17.6878606896\n",
      "K_dx:\n",
      "18.4629849664\n"
     ]
    }
   ],
   "source": [
    "for evals in eval_sets:\n",
    "    y = evals[symb_y]\n",
    "    K_dx = 1/3 * (y*evals[symb_eval('K_dy_dx', symb_x, symb_y)] - evals[symb_eval('K_snake_dx', symb_x, symb_y)])\n",
    "    print('K_dx:')\n",
    "    print(K_dx)\n",
    "    evals[symb_eval('K_dx', symb_x, symb_y)] = K_dx\n"
   ]
  },
  {
   "cell_type": "code",
   "execution_count": 13,
   "metadata": {},
   "outputs": [
    {
     "name": "stdout",
     "output_type": "stream",
     "text": [
      "2.77279024751\n",
      "1.12341850527\n",
      "3.12206934378\n",
      "3.25368344726\n"
     ]
    }
   ],
   "source": [
    "for evals in eval_sets:\n",
    "    print(evals[symb_x] * evals[symb_eval('K_dx', symb_x, symb_y)] / evals[symb_eval('K', symb_x, symb_y)])"
   ]
  },
  {
   "cell_type": "markdown",
   "metadata": {},
   "source": [
    "I also want the second derivative of $K$ to check the expected sizes..."
   ]
  },
  {
   "cell_type": "markdown",
   "metadata": {},
   "source": [
    "$K''(x,y) = \\frac{1}{3}(y\\underline{K}''(x,y) -\\widetilde{K}''(x,y))$\n",
    "\n",
    "$\\widetilde{K}'' = (R_w R_b)''$\n",
    "\n",
    "$(R_w R_b)' = R_w'R_b + R_wR_b'$\n",
    "\n",
    "$(R_w R_b)'' = (R_w'R_b + R_wR_b')' = R_w''R_b + 2R_w'R_b' + R_wR_b''$\n",
    "\n",
    "$R_w' = 2(y+R_b)R_b'$\n",
    "\n",
    "$R_b' = (y+R_w)^2 + 2x(y+R_w)R_w' = (y+R_w)(2xR_w' + y+R_w)$\n",
    "\n",
    "$R_w'' = 2((y+R_b)R_b')' = 2((R_b')^2 + (y+R_b)R_b'')$\n",
    "\n",
    "$R_b'' = ((y+R_w)(2xR_w' + y+R_w))' = R_w'(2xR_w' + y+R_w) + (y+R_w)(3R_w' + 2xR_w'')$"
   ]
  },
  {
   "cell_type": "code",
   "execution_count": 14,
   "metadata": {},
   "outputs": [
    {
     "name": "stdout",
     "output_type": "stream",
     "text": [
      "K_snake_dx_dx:\n",
      "[1277786.7614037835]\n",
      "K_snake_dx_dx:\n",
      "[10.699842857816959]\n",
      "K_snake_dx_dx:\n",
      "[41128654.26880432]\n",
      "K_snake_dx_dx:\n",
      "[1301480185.0630813]\n"
     ]
    }
   ],
   "source": [
    "sage_variables = var('var_x var_y R_w R_b R_w_dx R_w_dx_dx R_b_dx R_b_dx_dx Start_dx_dx K_snake_dx_dx')\n",
    "for evals in eval_sets:\n",
    "    eqx = var_x==evals[symb_x]\n",
    "    eqy = var_y==evals[symb_y]\n",
    "    eq0 = Start_dx_dx==R_w_dx_dx*R_b + 2*R_w_dx*R_b_dx + R_w*R_b_dx_dx\n",
    "    # reuse values already computed before\n",
    "    eq1 = R_w==evals[symb_eval('R_w', symb_x, symb_y)]\n",
    "    eq2 = R_b==evals[symb_eval('R_b', symb_x, symb_y)]\n",
    "    eq3 = R_w_dx==evals[symb_eval('R_w_dx', symb_x, symb_y)]\n",
    "    eq4 = R_b_dx==evals[symb_eval('R_b_dx', symb_x, symb_y)]\n",
    "    \n",
    "    eq5 = R_w_dx_dx== 2*(R_b_dx^2 + (var_y+R_b)*R_b_dx_dx)\n",
    "    eq6 = R_b_dx_dx== R_w_dx*(2*var_x*R_w_dx + var_y + R_w) + (var_y + R_w)*(3*R_w_dx + 2*var_x*R_w_dx_dx)\n",
    "    eq7 = K_snake_dx_dx==Start_dx_dx\n",
    "\n",
    "    eqns = [eq0,eq1,eq2,eq3,eq4,eq5,eq6,eq7,eqx,eqy]\n",
    "    set_and_print(evals, K_snake_dx_dx, symb_x, symb_y, solve(eqns, sage_variables, solution_dict=True))\n",
    "    #print(solve(eqns, sage_variables, solution_dict=True, explicit_solutions=True))"
   ]
  },
  {
   "cell_type": "code",
   "execution_count": 15,
   "metadata": {},
   "outputs": [
    {
     "name": "stdout",
     "output_type": "stream",
     "text": [
      "K_dy_dx_dx:\n",
      "[1183895.1899970463]\n",
      "K_dy_dx_dx:\n",
      "[27.603866448440424]\n",
      "K_dy_dx_dx:\n",
      "[37649041.42799908]\n",
      "K_dy_dx_dx:\n",
      "[1189664441.662329]\n"
     ]
    }
   ],
   "source": [
    "sage_variables = var('var_x var_y R_w R_b R_w_dx R_w_dx_dx R_b_dx R_b_dx_dx K_dy_dx_dx')\n",
    "for evals in eval_sets:\n",
    "    eqx = var_x==evals[symb_x]\n",
    "    eqy = var_y==evals[symb_y]\n",
    "    eq1 = R_w==evals[symb_eval('R_w', symb_x, symb_y)]\n",
    "    eq2 = R_b==evals[symb_eval('R_b', symb_x, symb_y)]\n",
    "    eq3 = R_w_dx==evals[symb_eval('R_w_dx', symb_x, symb_y)]\n",
    "    eq4 = R_b_dx==evals[symb_eval('R_b_dx', symb_x, symb_y)]\n",
    "    eq5 = R_w_dx_dx== 2*(R_b_dx^2 + (var_y+R_b)*R_b_dx_dx)\n",
    "    eq6 = R_b_dx_dx== R_w_dx*(2*var_x*R_w_dx + var_y + R_w) + (var_y + R_w)*(3*R_w_dx + 2*var_x*R_w_dx_dx)\n",
    "    eq7 = K_dy_dx_dx==R_w_dx_dx + R_b_dx_dx\n",
    "\n",
    "    eqns = [eq1,eq2,eq3,eq4,eq5,eq6,eq7,eqx,eqy]\n",
    "    set_and_print(evals, K_dy_dx_dx, symb_x, symb_y, solve(eqns, sage_variables, solution_dict=True))"
   ]
  },
  {
   "cell_type": "code",
   "execution_count": 16,
   "metadata": {},
   "outputs": [
    {
     "name": "stdout",
     "output_type": "stream",
     "text": [
      "K_dx_dx:\n",
      "5592.3863663\n",
      "K_dx_dx:\n",
      "2.30202891927\n",
      "K_dx_dx:\n",
      "21099.8094302\n",
      "K_dx_dx:\n",
      "70657.4219588\n"
     ]
    }
   ],
   "source": [
    "for evals in eval_sets:\n",
    "    y = evals[symb_y]\n",
    "    K_dx_dx = 1/3 * (y*evals[symb_eval('K_dy_dx_dx', symb_x, symb_y)] - evals[symb_eval('K_snake_dx_dx', symb_x, symb_y)])\n",
    "    print('K_dx_dx:')\n",
    "    print(K_dx_dx)\n",
    "    evals[symb_eval('K_dx_dx', symb_x, symb_y)] = K_dx_dx"
   ]
  },
  {
   "cell_type": "markdown",
   "metadata": {},
   "source": [
    "Computation of the expected size of the output of the sampler for K_dx:"
   ]
  },
  {
   "cell_type": "code",
   "execution_count": 17,
   "metadata": {},
   "outputs": [
    {
     "name": "stdout",
     "output_type": "stream",
     "text": [
      "13.7194327558\n",
      "0.253544006324\n",
      "45.5343430789\n",
      "146.148845204\n"
     ]
    }
   ],
   "source": [
    "for evals in eval_sets:\n",
    "    print(evals[symb_x] * evals[symb_eval('K_dx_dx', symb_x, symb_y)] / evals[symb_eval('K_dx', symb_x, symb_y)])\n",
    "    "
   ]
  },
  {
   "cell_type": "markdown",
   "metadata": {},
   "source": [
    "### $J_a$"
   ]
  },
  {
   "cell_type": "markdown",
   "metadata": {},
   "source": [
    "Fusy maple worksheet (1.3.1): \"K is the generating function of networks such that the associated graph, obtained by adding the root edge, is 3-connected. K is equal to M/(2*x^2*y)\"\n",
    "Here, M ist the generating function of rooted 3-connected planar maps (see 1.1.1), so Fusy's M is our \"M_3_arrow\" which in turn is equal to our \"J_a\" due to the primal map bijection."
   ]
  },
  {
   "cell_type": "markdown",
   "metadata": {},
   "source": [
    "$K_{Fusy} = \\vec{M}_3\\ /\\ 2x^2y = J_a\\ /\\ 2x^2y$\n",
    "\n",
    "$\\Rightarrow K_{Fusy} 2x^2y = J_a$"
   ]
  },
  {
   "cell_type": "code",
   "execution_count": 18,
   "metadata": {},
   "outputs": [
    {
     "name": "stdout",
     "output_type": "stream",
     "text": [
      "J_a:\n",
      "6.51755944546283654118400704909007336485e-6\n",
      "J_a:\n",
      "1.48342448648590913681737885755128761174e-7\n",
      "J_a:\n",
      "6.74933515427180045114421005638374486698e-6\n",
      "J_a:\n",
      "6.77431117193025547230054262158459321903e-6\n"
     ]
    }
   ],
   "source": [
    "for evals in eval_sets:\n",
    "    x = evals[symb_x]\n",
    "    y = evals[symb_y]\n",
    "    J_a = evals['Fusy_K'] * 2 *x^2 * y\n",
    "    print('J_a:')\n",
    "    print(J_a)\n",
    "    evals[symb_eval('J_a', symb_x, symb_y)] = J_a"
   ]
  },
  {
   "cell_type": "markdown",
   "metadata": {},
   "source": [
    "### $J_a'$"
   ]
  },
  {
   "cell_type": "markdown",
   "metadata": {},
   "source": [
    "Since $2x^2y K_{Fusy} = J_a$ it also holds that $J_a' = 4xyK_{Fusy} + 2x^2yK_{Fusy}'$ where the derivatives are with respect to $x$."
   ]
  },
  {
   "cell_type": "code",
   "execution_count": 19,
   "metadata": {},
   "outputs": [
    {
     "name": "stdout",
     "output_type": "stream",
     "text": [
      "J_a_dx:\n",
      "0.00101670701121470916578733450493266048102\n",
      "J_a_dx:\n",
      "0.0000162360263275694423884115380755626344318\n",
      "J_a_dx:\n",
      "0.00112096214632745083135523785551195813432\n",
      "J_a_dx:\n",
      "0.00115249869439639100939596126371990956881\n"
     ]
    }
   ],
   "source": [
    "for evals in eval_sets:\n",
    "    x = evals[symb_x]\n",
    "    y = evals[symb_y]\n",
    "    J_a_dx = 4*x*y*evals['Fusy_K'] + 2*x^2*y*evals['Fusy_K_dx']\n",
    "    print('J_a_dx:')\n",
    "    print(J_a_dx)\n",
    "    evals[symb_eval('J_a_dx', symb_x, symb_y)] = J_a_dx"
   ]
  },
  {
   "cell_type": "markdown",
   "metadata": {},
   "source": [
    "###  $\\underline{\\vec{G_3}}$ (G_3_arrow_dy)"
   ]
  },
  {
   "cell_type": "markdown",
   "metadata": {},
   "source": [
    "$J_a' = 2x^2K_{Fusy} + 2x^2yK'_{Fusy}$ with the derivates with respect to $y$.\n",
    "\n",
    "And $2\\vec{G}_3 = \\vec{M}_3 = J_a$, so $J_a' = 2\\vec{G}'_3$\n",
    "\n",
    "So $\\vec{G}'_3 = \\frac{1}{2}  J_a' = x^2K_{Fusy} + x^2yK'_{Fusy}$"
   ]
  },
  {
   "cell_type": "code",
   "execution_count": 20,
   "metadata": {},
   "outputs": [
    {
     "name": "stdout",
     "output_type": "stream",
     "text": [
      "G_3_arrow_dy:\n",
      "0.0000318160848052963728327033484806100128199\n",
      "G_3_arrow_dy:\n",
      "7.27807199246726631846420990184325238360e-7\n",
      "G_3_arrow_dy:\n",
      "0.0000360341551579664339724177151795357983944\n",
      "G_3_arrow_dy:\n",
      "0.0000373535365722129532741873427359990226360\n"
     ]
    }
   ],
   "source": [
    "for evals in eval_sets:\n",
    "    x = evals[symb_x]\n",
    "    y = evals[symb_y]\n",
    "    G_3_arrow_dy = x^2*evals['Fusy_K'] + x^2*y*evals['Fusy_K_dy']\n",
    "    print('G_3_arrow_dy:')\n",
    "    print(G_3_arrow_dy)\n",
    "    evals[symb_eval('G_3_arrow_dy', symb_x, symb_y)] = G_3_arrow_dy\n"
   ]
  },
  {
   "cell_type": "markdown",
   "metadata": {},
   "source": [
    "### I think I made a mistake and the $K_{Fusy}$ is actually our $\\vec{G}_3$.\n",
    "\n",
    "Thus $J_a = \\vec{M}_3 = 2\\vec{G}_3 = 2K_{Fusy}$"
   ]
  },
  {
   "cell_type": "code",
   "execution_count": 21,
   "metadata": {},
   "outputs": [
    {
     "name": "stdout",
     "output_type": "stream",
     "text": [
      "J_a:\n",
      "0.00103234762274642\n",
      "J_a:\n",
      "0.0000411886915760208\n",
      "J_a:\n",
      "0.00105845118285372\n",
      "J_a:\n",
      "0.00106131013059851\n"
     ]
    }
   ],
   "source": [
    "for evals in eval_sets:\n",
    "    J_a = 0.5 * evals['Fusy_K']\n",
    "    print('J_a:')\n",
    "    print(J_a)\n",
    "    evals[symb_eval('J_a', symb_x, symb_y)] = J_a"
   ]
  },
  {
   "cell_type": "code",
   "execution_count": 22,
   "metadata": {},
   "outputs": [
    {
     "name": "stdout",
     "output_type": "stream",
     "text": [
      "J_a_dx:\n",
      "0.106695873420575\n",
      "J_a_dx:\n",
      "0.00231559123294228\n",
      "J_a_dx:\n",
      "0.120334580483412\n",
      "J_a_dx:\n",
      "0.124976540383706\n"
     ]
    }
   ],
   "source": [
    "for evals in eval_sets:\n",
    "    J_a_dx = 0.5 *evals['Fusy_K_dx']\n",
    "    print('J_a_dx:')\n",
    "    print(J_a_dx)\n",
    "    evals[symb_eval('J_a_dx', symb_x, symb_y)] = J_a_dx"
   ]
  },
  {
   "cell_type": "code",
   "execution_count": 23,
   "metadata": {},
   "outputs": [
    {
     "name": "stdout",
     "output_type": "stream",
     "text": [
      "G_3_arrow_dy:\n",
      "0.0182698213762051362133391897289610870537\n",
      "G_3_arrow_dy:\n",
      "0.000679173063574668255997920599118410526120\n",
      "G_3_arrow_dy:\n",
      "0.0206691134547898290979819665022118221479\n",
      "G_3_arrow_dy:\n",
      "0.0214683058020723592469997145512349623450\n"
     ]
    }
   ],
   "source": [
    "for evals in eval_sets:\n",
    "    G_3_arrow_dy = evals['Fusy_K_dy']\n",
    "    print('G_3_arrow_dy:')\n",
    "    print(G_3_arrow_dy)\n",
    "    evals[symb_eval('G_3_arrow_dy', symb_x, symb_y)] = G_3_arrow_dy"
   ]
  },
  {
   "cell_type": "markdown",
   "metadata": {},
   "source": [
    "This was just an attempt to evaluate networks in sage but it doesn't work..."
   ]
  },
  {
   "cell_type": "code",
   "execution_count": 24,
   "metadata": {},
   "outputs": [],
   "source": [
    "sage_variables = var('var_x var_y D S P K u v')\n",
    "for evals in eval_sets:\n",
    "    eqx = var_x==evals[symb_x]\n",
    "    eqy = var_y==1.0\n",
    "    eq0 = D== var_y + S + P + K\n",
    "    eq1 = S== (var_y + P + K) * var_x * D\n",
    "    eq2 = P== var_y * (exp(S + K) - 1) + (exp(S + K) - S - K - 1)\n",
    "    eq3 = K== 1/2 * D * (1 / (1 + var_x*D) +1/(1+D) -1 -(1+u)^2*(1+v)^2/(1+u+v)^3)\n",
    "    eq4 = u== var_x * D *(1+v)^2\n",
    "    eq5 = v== D * (1+u)^2    \n",
    "    \n",
    "    eqns = [eq0,eq1,eq2,eq3,eq4,eq5,eqx,eqy]\n",
    "    #print(solve(eqns,sage_variables,solution_dict=True))\n",
    "    #set_and_print(evals, Start, symb_x, symb_y, solve(eqns,sage_variables,solution_dict=True))"
   ]
  },
  {
   "cell_type": "markdown",
   "metadata": {},
   "source": [
    "## Print all oracle queries so I can copy paste them easily :D"
   ]
  },
  {
   "cell_type": "code",
   "execution_count": 25,
   "metadata": {
    "scrolled": false
   },
   "outputs": [
    {
     "data": {
      "text/plain": [
       "[{'D(x*G_1_dx(x,y),y)': 1.09347848647472549211184239941769601061,\n",
       "  'D_dx(x*G_1_dx(x,y),y)': 3.45102206434801157864803811245239712851,\n",
       "  'Fusy_K': 0.00206469524549284585247141356302904687086,\n",
       "  'Fusy_K_dx': 0.213391746841149010553294208298541737991,\n",
       "  'Fusy_K_dy': 0.0182698213762051362133391897289610870537,\n",
       "  'G_1(x,y)': 0.0372484305053690456202661877963311349072,\n",
       "  'G_1_dx(x,y)': 1.03960692373287371278312170556092216601,\n",
       "  'G_1_dx_dx(x,y)': 1.1831386535487874823112196643179832576,\n",
       "  'G_2_dx(x*G_1_dx(x,y),y)': 0.038842683760013258631145523348425252874,\n",
       "  'G_2_dx_dx(x*G_1_dx(x,y),y)': 1.05099440303963997980334319688998807042,\n",
       "  'G_3_arrow_dy(x*G_1_dx(x,y),D(x*G_1_dx(x,y),y))': 0.0182698213762051362133391897289610870537,\n",
       "  'H(x*G_1_dx(x,y),y)': 0.00206469524549284585247141356302904687086,\n",
       "  'H_dx(x*G_1_dx(x,y),y)': 0.276441303522129889594403984833856178203,\n",
       "  'J_a(x*G_1_dx(x,y),D(x*G_1_dx(x,y),y))': 0.00103234762274642,\n",
       "  'J_a_dx(x*G_1_dx(x,y),D(x*G_1_dx(x,y),y))': 0.106695873420575,\n",
       "  'K(x*G_1_dx(x,y),D(x*G_1_dx(x,y),y))': 0.21219385343653063,\n",
       "  'K_dx(x*G_1_dx(x,y),D(x*G_1_dx(x,y),y))': 15.48657625114519,\n",
       "  'K_dx_dx(x*G_1_dx(x,y),D(x*G_1_dx(x,y),y))': 5592.386366298111,\n",
       "  'K_dy(x*G_1_dx(x,y),D(x*G_1_dx(x,y),y))': 1.729773462783172,\n",
       "  'K_dy_dx(x*G_1_dx(x,y),D(x*G_1_dx(x,y),y))': 539.8558558558559,\n",
       "  'K_dy_dx_dx(x*G_1_dx(x,y),D(x*G_1_dx(x,y),y))': 1183895.1899970463,\n",
       "  'K_snake(x*G_1_dx(x,y),D(x*G_1_dx(x,y),y))': 1.254888507718696,\n",
       "  'K_snake_dx(x*G_1_dx(x,y),D(x*G_1_dx(x,y),y))': 543.8610354223433,\n",
       "  'K_snake_dx_dx(x*G_1_dx(x,y),D(x*G_1_dx(x,y),y))': 1277786.7614037835,\n",
       "  'P(x*G_1_dx(x,y),y)': 0.0477986369539869322752735578478273809975,\n",
       "  'P_dx(x*G_1_dx(x,y),y)': 1.80255895061461154228734452882283065547,\n",
       "  'R_b(x*G_1_dx(x,y),D(x*G_1_dx(x,y),y))': 0.5120292887029289,\n",
       "  'R_b_dx(x*G_1_dx(x,y),D(x*G_1_dx(x,y),y))': 129.2273161413563,\n",
       "  'R_w(x*G_1_dx(x,y),D(x*G_1_dx(x,y),y))': 2.577655310621243,\n",
       "  'R_w_dx(x*G_1_dx(x,y),D(x*G_1_dx(x,y),y))': 414.9509202453988,\n",
       "  'S(x*G_1_dx(x,y),y)': 0.0436151542752457139840974280068395827400,\n",
       "  'S_dx(x*G_1_dx(x,y),y)': 1.37202181021127014676628959879571029484,\n",
       "  'x': 0.0365447705189290291920092340981152311040,\n",
       "  'x*G_1_dx(x,y)': 0.0379921964577076229466965829549486315897,\n",
       "  'y': 1.00000000000000},\n",
       " {'D(x*G_1_dx(x,y),y)': 0.637806651054576543789868114281052782226,\n",
       "  'D_dx(x*G_1_dx(x,y),y)': 0.696569004272650034553258501901187844797,\n",
       "  'Fusy_K': 0.0000823773831520415917684978054015601056388,\n",
       "  'Fusy_K_dx': 0.00463118246588456114847814832532560426823,\n",
       "  'Fusy_K_dy': 0.000679173063574668255997920599118410526120,\n",
       "  'G_1(x,y)': 0.0371350974110612431577106176437625479004,\n",
       "  'G_1_dx(x,y)': 1.02349152146425090041372148084962313028,\n",
       "  'G_1_dx_dx(x,y)': 0.6681252576686826620451319953849912978,\n",
       "  'G_2_dx(x*G_1_dx(x,y),y)': 0.023219842219972369437856348855081731951,\n",
       "  'G_2_dx_dx(x*G_1_dx(x,y),y)': 0.622880478267134011353588999105453800863,\n",
       "  'G_3_arrow_dy(x*G_1_dx(x,y),D(x*G_1_dx(x,y),y))': 0.000679173063574668255997920599118410526120,\n",
       "  'H(x*G_1_dx(x,y),y)': 0.0000823773831520415917684978054015601056388,\n",
       "  'H_dx(x*G_1_dx(x,y),y)': 0.00510427337050757305444031263634611369205,\n",
       "  'J_a(x*G_1_dx(x,y),D(x*G_1_dx(x,y),y))': 0.0000411886915760208,\n",
       "  'J_a_dx(x*G_1_dx(x,y),D(x*G_1_dx(x,y),y))': 0.00231559123294228,\n",
       "  'K(x*G_1_dx(x,y),D(x*G_1_dx(x,y),y))': 0.011409175629378519,\n",
       "  'K_dx(x*G_1_dx(x,y),D(x*G_1_dx(x,y),y))': 0.3411352773706396,\n",
       "  'K_dx_dx(x*G_1_dx(x,y),D(x*G_1_dx(x,y),y))': 2.302028919273538,\n",
       "  'K_dy(x*G_1_dx(x,y),D(x*G_1_dx(x,y),y))': 0.08333800369892955,\n",
       "  'K_dy_dx(x*G_1_dx(x,y),D(x*G_1_dx(x,y),y))': 2.644658753709199,\n",
       "  'K_dy_dx_dx(x*G_1_dx(x,y),D(x*G_1_dx(x,y),y))': 27.603866448440424,\n",
       "  'K_snake(x*G_1_dx(x,y),D(x*G_1_dx(x,y),y))': 0.01892600615665261,\n",
       "  'K_snake_dx(x*G_1_dx(x,y),D(x*G_1_dx(x,y),y))': 0.6633751107735156,\n",
       "  'K_snake_dx_dx(x*G_1_dx(x,y),D(x*G_1_dx(x,y),y))': 10.699842857816959,\n",
       "  'P(x*G_1_dx(x,y),y)': 0.00938930779484682350336768502426592529014,\n",
       "  'P_dx(x*G_1_dx(x,y),y)': 0.271262998936713526179079307546743223900,\n",
       "  'R_b(x*G_1_dx(x,y),D(x*G_1_dx(x,y),y))': 0.04589839549189142,\n",
       "  'R_b_dx(x*G_1_dx(x,y),D(x*G_1_dx(x,y),y))': 1.378109452736318,\n",
       "  'R_w(x*G_1_dx(x,y),D(x*G_1_dx(x,y),y))': 0.4674525884161968,\n",
       "  'R_w_dx(x*G_1_dx(x,y),D(x*G_1_dx(x,y),y))': 1.884440658716638,\n",
       "  'S(x*G_1_dx(x,y),y)': 0.0149266596473254870549308539222398010276,\n",
       "  'S_dx(x*G_1_dx(x,y),y)': 0.420201731965428935319738881718098507204,\n",
       "  'x': 0.0367100483755473011833298788754433904407,\n",
       "  'x*G_1_dx(x,y)': 0.0375724232649151595081505057178980179655,\n",
       "  'y': 0.61340830622925219163980107752914549580},\n",
       " {'D(x*G_1_dx(x,y),y)': 1.09410365137374004442949439446589198249,\n",
       "  'D_dx(x*G_1_dx(x,y),y)': 3.55196572933420691992480228903908993177,\n",
       "  'Fusy_K': 0.00211690236570744191405430580782101425957,\n",
       "  'Fusy_K_dx': 0.240669160966824167328405660248655172420,\n",
       "  'Fusy_K_dy': 0.0206691134547898290979819665022118221479,\n",
       "  'G_1(x,y)': 0.0374202706756538898981827103195911450645,\n",
       "  'G_1_dx(x,y)': 1.03980258991076744240676377873318958256,\n",
       "  'G_1_dx_dx(x,y)': 1.1846774415112270278413185976194078480,\n",
       "  'G_2_dx(x*G_1_dx(x,y),y)': 0.039030877742186944047923311524402278009,\n",
       "  'G_2_dx_dx(x*G_1_dx(x,y),y)': 1.05172845812047078798847446437969622346,\n",
       "  'G_3_arrow_dy(x*G_1_dx(x,y),D(x*G_1_dx(x,y),y))': 0.0206691134547898290979819665022118221479,\n",
       "  'H(x*G_1_dx(x,y),y)': 0.00211690236570744191405430580782101425957,\n",
       "  'H_dx(x*G_1_dx(x,y),y)': 0.314085143613958191927506186335308955728,\n",
       "  'J_a(x*G_1_dx(x,y),D(x*G_1_dx(x,y),y))': 0.00105845118285372,\n",
       "  'J_a_dx(x*G_1_dx(x,y),D(x*G_1_dx(x,y),y))': 0.120334580483412,\n",
       "  'K(x*G_1_dx(x,y),D(x*G_1_dx(x,y),y))': 0.21625622410465262,\n",
       "  'K_dx(x*G_1_dx(x,y),D(x*G_1_dx(x,y),y))': 17.687860689552128,\n",
       "  'K_dx_dx(x*G_1_dx(x,y),D(x*G_1_dx(x,y),y))': 21099.809430226684,\n",
       "  'K_dy(x*G_1_dx(x,y),D(x*G_1_dx(x,y),y))': 1.93063670411985,\n",
       "  'K_dy_dx(x*G_1_dx(x,y),D(x*G_1_dx(x,y),y))': 1871.130434782609,\n",
       "  'K_dy_dx_dx(x*G_1_dx(x,y),D(x*G_1_dx(x,y),y))': 37649041.42799908,\n",
       "  'K_snake(x*G_1_dx(x,y),D(x*G_1_dx(x,y),y))': 1.463547995139733,\n",
       "  'K_snake_dx(x*G_1_dx(x,y),D(x*G_1_dx(x,y),y))': 1994.14705882353,\n",
       "  'K_snake_dx_dx(x*G_1_dx(x,y),D(x*G_1_dx(x,y),y))': 41128654.26880432,\n",
       "  'P(x*G_1_dx(x,y),y)': 0.0481252214870148144168050624406156526488,\n",
       "  'P_dx(x*G_1_dx(x,y),y)': 1.85579098315862781296255814730413923967,\n",
       "  'R_b(x*G_1_dx(x,y),D(x*G_1_dx(x,y),y))': 0.5593091186182373,\n",
       "  'R_b_dx(x*G_1_dx(x,y),D(x*G_1_dx(x,y),y))': 435.462962962963,\n",
       "  'R_w(x*G_1_dx(x,y),D(x*G_1_dx(x,y),y))': 2.733773804897007,\n",
       "  'R_w_dx(x*G_1_dx(x,y),D(x*G_1_dx(x,y),y))': 1440.0,\n",
       "  'S(x*G_1_dx(x,y),y)': 0.0438615275210177880986350262174553155774,\n",
       "  'S_dx(x*G_1_dx(x,y),y)': 1.38208960256162091503473795539964173636,\n",
       "  'x': 0.0367100483755473011833298788754433904407,\n",
       "  'x*G_1_dx(x,y)': 0.0381712033766436449320149605392031808199,\n",
       "  'y': 1.00000000000000},\n",
       " {'D(x*G_1_dx(x,y),y)': 1.09416749105326839436361139331519184699,\n",
       "  'D_dx(x*G_1_dx(x,y),y)': 3.58480499936306184450275887839568999541,\n",
       "  'D_dx_dx(x*G_1_dx(x,y),y)': 3844.44528283854975380346115822251416046,\n",
       "  'Fusy_K': 0.00212262026119702814886982142258999866449,\n",
       "  'Fusy_K_dx': 0.249953080767411054035497390586634583600,\n",
       "  'Fusy_K_dx_dx': 840.103572875302590376914748297187794199,\n",
       "  'Fusy_K_dy': 0.0214683058020723592469997145512349623450,\n",
       "  'Fusy_K_dy_dy': 6.12142458745962758412596335033700990508,\n",
       "  'Fusy_k_dx_dy': 72.0981198866882684638807996945396894562,\n",
       "  'G(x,y)': 1.03814706567105803659247685817331208031,\n",
       "  'G_1(x,y)': 0.0374374564718087765508715224183234143412,\n",
       "  'G_1_dx(x,y)': 1.03982217197897390330627046797765213524,\n",
       "  'G_1_dx_dx(x,y)': 1.1849448423679601844906264429882820439,\n",
       "  'G_1_dx_dx_dx(x,y)': 26.97717307615521913829963604535756800,\n",
       "  'G_2_dx(x*G_1_dx(x,y),y)': 0.039049710051328373527902391160990973285,\n",
       "  'G_2_dx_dx(x*G_1_dx(x,y),y)': 1.05189847611928530057997563610421892748,\n",
       "  'G_2_dx_dx_dx(x*G_1_dx(x,y),y)': 17.9872451737400462981579319960233386141,\n",
       "  'G_3_arrow_dy(x*G_1_dx(x,y),D(x*G_1_dx(x,y),y))': 0.0214683058020723592469997145512349623450,\n",
       "  'G_dx(x,y)': 1.07948833665967802456253351678818766059,\n",
       "  'G_dx_dx(x,y)': 2.35262291793778847713055101300644029098,\n",
       "  'G_dx_dx_dx(x,y)': 33.0108508153309009525655605898420142252,\n",
       "  'H(x*G_1_dx(x,y),y)': 0.00212262026119702814886982142258999866449,\n",
       "  'H_dx(x*G_1_dx(x,y),y)': 0.326912770734535074726715514177226469305,\n",
       "  'H_dx_dx(x*G_1_dx(x,y),y)': 1518.21806872915956879873505899143586685,\n",
       "  'J_a(x*G_1_dx(x,y),D(x*G_1_dx(x,y),y))': 0.00106131013059851,\n",
       "  'J_a_dx(x*G_1_dx(x,y),D(x*G_1_dx(x,y),y))': 0.124976540383706,\n",
       "  'K(x*G_1_dx(x,y),D(x*G_1_dx(x,y),y))': 0.21670360435516503,\n",
       "  'K_dx(x*G_1_dx(x,y),D(x*G_1_dx(x,y),y))': 18.462984966367003,\n",
       "  'K_dx_dx(x*G_1_dx(x,y),D(x*G_1_dx(x,y),y))': 70657.42195884386,\n",
       "  'K_dy(x*G_1_dx(x,y),D(x*G_1_dx(x,y),y))': 1.998149518874907,\n",
       "  'K_dy_dx(x*G_1_dx(x,y),D(x*G_1_dx(x,y),y))': 6094.863636363636,\n",
       "  'K_dy_dx_dx(x*G_1_dx(x,y),D(x*G_1_dx(x,y),y))': 1189664441.662329,\n",
       "  'K_snake(x*G_1_dx(x,y),D(x*G_1_dx(x,y),y))': 1.536199432751157,\n",
       "  'K_snake_dx(x*G_1_dx(x,y),D(x*G_1_dx(x,y),y))': 6613.412698412699,\n",
       "  'K_snake_dx_dx(x*G_1_dx(x,y),D(x*G_1_dx(x,y),y))': 1301480185.0630813,\n",
       "  'P(x*G_1_dx(x,y),y)': 0.0481585761872462889748092768486110858080,\n",
       "  'P_dx(x*G_1_dx(x,y),y)': 1.87300065960603866766879075789499635792,\n",
       "  'P_dx_dx(x*G_1_dx(x,y),y)': 2011.58863957504105608992077970919220810,\n",
       "  'R_b(x*G_1_dx(x,y),D(x*G_1_dx(x,y),y))': 0.5749385151094553,\n",
       "  'R_b_dx(x*G_1_dx(x,y),D(x*G_1_dx(x,y),y))': 1405.924242424242,\n",
       "  'R_w(x*G_1_dx(x,y),D(x*G_1_dx(x,y),y))': 2.78591483387927,\n",
       "  'R_w_dx(x*G_1_dx(x,y),D(x*G_1_dx(x,y),y))': 4693.272727272727,\n",
       "  'S(x*G_1_dx(x,y),y)': 0.0438862946048250772399322950439907625167,\n",
       "  'S_dx(x*G_1_dx(x,y),y)': 1.38489156902248810210725260632346716819,\n",
       "  'S_dx_dx(x*G_1_dx(x,y),y)': 314.638574534349128914805319521886085503,\n",
       "  'x': 0.0367265761612091283824619433531762063743,\n",
       "  'x*G_1_dx(x,y)': 0.0381891081932996814792832195422959507297,\n",
       "  'y': 1.00000000000000}]"
      ]
     },
     "execution_count": 25,
     "metadata": {},
     "output_type": "execute_result"
    }
   ],
   "source": [
    "# remove keys we don't need in oracle\n",
    "functions_to_remove = ['K_snake',\n",
    "                       'K_snake_dx',\n",
    "                       'K_snake_dx_dx',\n",
    "                       'K_dy',\n",
    "                       'K_dy_dx',\n",
    "                       'K_dy_dx_dx',\n",
    "                       'K_dx_dx',\n",
    "                       'R_w_dx',\n",
    "                       'R_b_dx']\n",
    "#[evals.pop(symb_eval(f, symb_x, symb_y), None) for f in functions_to_remove for evals in eval_sets]\n",
    "other_keys_to_remove = ['Fusy_K', 'Fusy_K_dx', 'Fusy_K_dy']\n",
    "#[evals.pop(key, None) for key in other_keys_to_remove for evals in eval_sets]\n",
    "\n",
    "[evals for evals in eval_sets]"
   ]
  }
 ],
 "metadata": {
  "kernelspec": {
   "display_name": "SageMath 8.2",
   "language": "",
   "name": "sagemath"
  },
  "language_info": {
   "codemirror_mode": {
    "name": "ipython",
    "version": 2
   },
   "file_extension": ".py",
   "mimetype": "text/x-python",
   "name": "python",
   "nbconvert_exporter": "python",
   "pygments_lexer": "ipython2",
   "version": "2.7.14"
  }
 },
 "nbformat": 4,
 "nbformat_minor": 2
}
