{
  "cells": [
    {
      "cell_type": "code",
      "execution_count": null,
      "metadata": {
        "collapsed": false
      },
      "outputs": [],
      "source": [
        "%matplotlib inline"
      ]
    },
    {
      "cell_type": "markdown",
      "metadata": {},
      "source": [
        "\n# Write Dotfile\n\n\n\nWrite a dot file from a networkx graph for further processing with graphviz.\n\nYou need to have either pygraphviz or pydot for this example.\n\nSee https://networkx.github.io/documentation/latest/reference/drawing.html\nfor more info.\n\n\n"
      ]
    },
    {
      "cell_type": "code",
      "execution_count": null,
      "metadata": {
        "collapsed": false
      },
      "outputs": [],
      "source": [
        "# Author: Aric Hagberg (hagberg@lanl.gov)\n\n#    Copyright (C) 2004-2018 by\n#    Aric Hagberg <hagberg@lanl.gov>\n#    Dan Schult <dschult@colgate.edu>\n#    Pieter Swart <swart@lanl.gov>\n#    All rights reserved.\n#    BSD license.\n\nimport networkx as nx\n\n# and the following code block is not needed\n# but we want to see which module is used and\n# if and why it fails\ntry:\n    import pygraphviz\n    from networkx.drawing.nx_agraph import write_dot\n    print(\"using package pygraphviz\")\nexcept ImportError:\n    try:\n        import pydot\n        from networkx.drawing.nx_pydot import write_dot\n        print(\"using package pydot\")\n    except ImportError:\n        print()\n        print(\"Both pygraphviz and pydot were not found \")\n        print(\"see  https://networkx.github.io/documentation/latest/reference/drawing.html\")\n        print()\n        raise\n\nG = nx.grid_2d_graph(5, 5)  # 5x5 grid\nwrite_dot(G, \"grid.dot\")\nprint(\"Now run: neato -Tps grid.dot >grid.ps\")"
      ]
    }
  ],
  "metadata": {
    "kernelspec": {
      "display_name": "Python 3",
      "language": "python",
      "name": "python3"
    },
    "language_info": {
      "codemirror_mode": {
        "name": "ipython",
        "version": 3
      },
      "file_extension": ".py",
      "mimetype": "text/x-python",
      "name": "python",
      "nbconvert_exporter": "python",
      "pygments_lexer": "ipython3",
      "version": "3.6.5"
    }
  },
  "nbformat": 4,
  "nbformat_minor": 0
}