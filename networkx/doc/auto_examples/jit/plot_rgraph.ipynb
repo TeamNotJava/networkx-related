{
  "cells": [
    {
      "cell_type": "code",
      "execution_count": null,
      "metadata": {
        "collapsed": false
      },
      "outputs": [],
      "source": [
        "%matplotlib inline"
      ]
    },
    {
      "cell_type": "markdown",
      "metadata": {},
      "source": [
        "\n# Rgraph\n\n\nAn example showing how to use the JavaScript InfoVis Toolkit (JIT)\nJSON export\n\nSee the JIT documentation and examples at http://thejit.org\n\n\n"
      ]
    },
    {
      "cell_type": "code",
      "execution_count": null,
      "metadata": {
        "collapsed": false
      },
      "outputs": [],
      "source": [
        "__author__ = \"\"\"Ollie Glass (ollieglaskovik@gmail.com)\"\"\"\n\nimport json\n\nimport matplotlib.pyplot as plt\nimport networkx as nx\nfrom networkx.readwrite.json_graph import jit_data, jit_graph\n\n# add some nodes to a graph\nG = nx.Graph()\n\nG.add_node(\"one\", type=\"normal\")\nG.add_node(\"two\", type=\"special\")\nG.add_node(\"solo\")\n\n# add edges\nG.add_edge(\"one\", \"two\")\nG.add_edge(\"two\", 3, type=\"extra special\")\n\n# convert to JIT JSON\njit_json = jit_data(G, indent=4)\nprint(jit_json)\n\nX = jit_graph(json.loads(jit_json))\nprint(\"Nodes: %s\" % list(X.nodes(data=True)))\nprint(\"Edges: %s\" % list(X.edges(data=True)))\n\nnx.draw(G, with_labels=True)\nplt.show()"
      ]
    }
  ],
  "metadata": {
    "kernelspec": {
      "display_name": "Python 3",
      "language": "python",
      "name": "python3"
    },
    "language_info": {
      "codemirror_mode": {
        "name": "ipython",
        "version": 3
      },
      "file_extension": ".py",
      "mimetype": "text/x-python",
      "name": "python",
      "nbconvert_exporter": "python",
      "pygments_lexer": "ipython3",
      "version": "3.6.5"
    }
  },
  "nbformat": 4,
  "nbformat_minor": 0
}