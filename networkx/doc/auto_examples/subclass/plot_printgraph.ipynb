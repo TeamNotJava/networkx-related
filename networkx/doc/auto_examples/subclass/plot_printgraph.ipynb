{
  "cells": [
    {
      "cell_type": "code",
      "execution_count": null,
      "metadata": {
        "collapsed": false
      },
      "outputs": [],
      "source": [
        "%matplotlib inline"
      ]
    },
    {
      "cell_type": "markdown",
      "metadata": {},
      "source": [
        "\n# Print Graph\n\n\nExample subclass of the Graph class.\n\n"
      ]
    },
    {
      "cell_type": "code",
      "execution_count": null,
      "metadata": {
        "collapsed": false
      },
      "outputs": [],
      "source": [
        "# Author: Aric Hagberg (hagberg@lanl.gov)\n\n#    Copyright (C) 2004-2018 by\n#    Aric Hagberg <hagberg@lanl.gov>\n#    Dan Schult <dschult@colgate.edu>\n#    Pieter Swart <swart@lanl.gov>\n#    All rights reserved.\n#    BSD license.\n#\n__docformat__ = \"restructuredtext en\"\n\nfrom copy import deepcopy\n\nimport matplotlib.pyplot as plt\nimport networkx as nx\nfrom networkx import Graph\n\nclass PrintGraph(Graph):\n    \"\"\"\n    Example subclass of the Graph class.\n\n    Prints activity log to file or standard output.\n    \"\"\"\n\n    def __init__(self, data=None, name='', file=None, **attr):\n        Graph.__init__(self, data=data, name=name, **attr)\n        if file is None:\n            import sys\n            self.fh = sys.stdout\n        else:\n            self.fh = open(file, 'w')\n\n    def add_node(self, n, attr_dict=None, **attr):\n        Graph.add_node(self, n, attr_dict=attr_dict, **attr)\n        self.fh.write(\"Add node: %s\\n\" % n)\n\n    def add_nodes_from(self, nodes, **attr):\n        for n in nodes:\n            self.add_node(n, **attr)\n\n    def remove_node(self, n):\n        Graph.remove_node(self, n)\n        self.fh.write(\"Remove node: %s\\n\" % n)\n\n    def remove_nodes_from(self, nodes):\n        for n in nodes:\n            self.remove_node(n)\n\n    def add_edge(self, u, v, attr_dict=None, **attr):\n        Graph.add_edge(self, u, v, attr_dict=attr_dict, **attr)\n        self.fh.write(\"Add edge: %s-%s\\n\" % (u, v))\n\n    def add_edges_from(self, ebunch, attr_dict=None, **attr):\n        for e in ebunch:\n            u, v = e[0:2]\n            self.add_edge(u, v, attr_dict=attr_dict, **attr)\n\n    def remove_edge(self, u, v):\n        Graph.remove_edge(self, u, v)\n        self.fh.write(\"Remove edge: %s-%s\\n\" % (u, v))\n\n    def remove_edges_from(self, ebunch):\n        for e in ebunch:\n            u, v = e[0:2]\n            self.remove_edge(u, v)\n\n    def clear(self):\n        Graph.clear(self)\n        self.fh.write(\"Clear graph\\n\")\n\n\nif __name__ == '__main__':\n    G = PrintGraph()\n    G.add_node('foo')\n    G.add_nodes_from('bar', weight=8)\n    G.remove_node('b')\n    G.remove_nodes_from('ar')\n    print(\"Nodes in G: \", G.nodes(data=True))\n    G.add_edge(0, 1, weight=10)\n    print(\"Edges in G: \", G.edges(data=True))\n    G.remove_edge(0, 1)\n    G.add_edges_from(zip(range(0, 3), range(1, 4)), weight=10)\n    print(\"Edges in G: \", G.edges(data=True))\n    G.remove_edges_from(zip(range(0, 3), range(1, 4)))\n    print(\"Edges in G: \", G.edges(data=True))\n\n    G = PrintGraph()\n    nx.add_path(G, range(10))\n    nx.add_star(G, range(9, 13))\n    nx.draw(G)\n    plt.show()"
      ]
    }
  ],
  "metadata": {
    "kernelspec": {
      "display_name": "Python 3",
      "language": "python",
      "name": "python3"
    },
    "language_info": {
      "codemirror_mode": {
        "name": "ipython",
        "version": 3
      },
      "file_extension": ".py",
      "mimetype": "text/x-python",
      "name": "python",
      "nbconvert_exporter": "python",
      "pygments_lexer": "ipython3",
      "version": "3.6.5"
    }
  },
  "nbformat": 4,
  "nbformat_minor": 0
}