{
  "cells": [
    {
      "cell_type": "code",
      "execution_count": null,
      "metadata": {
        "collapsed": false
      },
      "outputs": [],
      "source": [
        "%matplotlib inline"
      ]
    },
    {
      "cell_type": "markdown",
      "metadata": {},
      "source": [
        "\n# House With Colors\n\n\nDraw a graph with matplotlib.\nYou must have matplotlib for this to work.\n\n"
      ]
    },
    {
      "cell_type": "code",
      "execution_count": null,
      "metadata": {
        "collapsed": false
      },
      "outputs": [],
      "source": [
        "# Author: Aric Hagberg (hagberg@lanl.gov)\nimport matplotlib.pyplot as plt\nimport networkx as nx\n\nG = nx.house_graph()\n# explicitly set positions\npos = {0: (0, 0),\n       1: (1, 0),\n       2: (0, 1),\n       3: (1, 1),\n       4: (0.5, 2.0)}\n\nnx.draw_networkx_nodes(G, pos, node_size=2000, nodelist=[4])\nnx.draw_networkx_nodes(G, pos, node_size=3000, nodelist=[0, 1, 2, 3], node_color='b')\nnx.draw_networkx_edges(G, pos, alpha=0.5, width=6)\nplt.axis('off')\nplt.show()"
      ]
    }
  ],
  "metadata": {
    "kernelspec": {
      "display_name": "Python 3",
      "language": "python",
      "name": "python3"
    },
    "language_info": {
      "codemirror_mode": {
        "name": "ipython",
        "version": 3
      },
      "file_extension": ".py",
      "mimetype": "text/x-python",
      "name": "python",
      "nbconvert_exporter": "python",
      "pygments_lexer": "ipython3",
      "version": "3.6.5"
    }
  },
  "nbformat": 4,
  "nbformat_minor": 0
}