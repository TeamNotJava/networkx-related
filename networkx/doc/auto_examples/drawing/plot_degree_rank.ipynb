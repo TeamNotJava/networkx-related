{
  "cells": [
    {
      "cell_type": "code",
      "execution_count": null,
      "metadata": {
        "collapsed": false
      },
      "outputs": [],
      "source": [
        "%matplotlib inline"
      ]
    },
    {
      "cell_type": "markdown",
      "metadata": {},
      "source": [
        "\n# Degree Rank\n\n\nRandom graph from given degree sequence.\nDraw degree rank plot and graph with matplotlib.\n\n"
      ]
    },
    {
      "cell_type": "code",
      "execution_count": null,
      "metadata": {
        "collapsed": false
      },
      "outputs": [],
      "source": [
        "# Author: Aric Hagberg <aric.hagberg@gmail.com>\nimport networkx as nx\nimport matplotlib.pyplot as plt\n\nG = nx.gnp_random_graph(100, 0.02)\n\ndegree_sequence = sorted([d for n, d in G.degree()], reverse=True)\n# print \"Degree sequence\", degree_sequence\ndmax = max(degree_sequence)\n\nplt.loglog(degree_sequence, 'b-', marker='o')\nplt.title(\"Degree rank plot\")\nplt.ylabel(\"degree\")\nplt.xlabel(\"rank\")\n\n# draw graph in inset\nplt.axes([0.45, 0.45, 0.45, 0.45])\nGcc = sorted(nx.connected_component_subgraphs(G), key=len, reverse=True)[0]\npos = nx.spring_layout(Gcc)\nplt.axis('off')\nnx.draw_networkx_nodes(Gcc, pos, node_size=20)\nnx.draw_networkx_edges(Gcc, pos, alpha=0.4)\n\nplt.show()"
      ]
    }
  ],
  "metadata": {
    "kernelspec": {
      "display_name": "Python 3",
      "language": "python",
      "name": "python3"
    },
    "language_info": {
      "codemirror_mode": {
        "name": "ipython",
        "version": 3
      },
      "file_extension": ".py",
      "mimetype": "text/x-python",
      "name": "python",
      "nbconvert_exporter": "python",
      "pygments_lexer": "ipython3",
      "version": "3.6.5"
    }
  },
  "nbformat": 4,
  "nbformat_minor": 0
}