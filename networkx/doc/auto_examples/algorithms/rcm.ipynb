{
  "cells": [
    {
      "cell_type": "code",
      "execution_count": null,
      "metadata": {
        "collapsed": false
      },
      "outputs": [],
      "source": [
        "%matplotlib inline"
      ]
    },
    {
      "cell_type": "markdown",
      "metadata": {},
      "source": [
        "\n# Rcm\n\n\nCuthill-McKee ordering of matrices\n\nThe reverse Cuthill-McKee algorithm gives a sparse matrix ordering that\nreduces the matrix bandwidth.\n\n"
      ]
    },
    {
      "cell_type": "code",
      "execution_count": null,
      "metadata": {
        "collapsed": false
      },
      "outputs": [],
      "source": [
        "# Copyright (C) 2011-2018 by\n# Author:    Aric Hagberg <aric.hagberg@gmail.com>\n# BSD License\nimport networkx as nx\nfrom networkx.utils import reverse_cuthill_mckee_ordering\nimport numpy as np\n\n# build low-bandwidth numpy matrix\nG = nx.grid_2d_graph(3, 3)\nrcm = list(reverse_cuthill_mckee_ordering(G))\nprint(\"ordering\", rcm)\n\nprint(\"unordered Laplacian matrix\")\nA = nx.laplacian_matrix(G)\nx, y = np.nonzero(A)\n#print(\"lower bandwidth:\",(y-x).max())\n#print(\"upper bandwidth:\",(x-y).max())\nprint(\"bandwidth: %d\" % ((y - x).max() + (x - y).max() + 1))\nprint(A)\n\nB = nx.laplacian_matrix(G, nodelist=rcm)\nprint(\"low-bandwidth Laplacian matrix\")\nx, y = np.nonzero(B)\n#print(\"lower bandwidth:\",(y-x).max())\n#print(\"upper bandwidth:\",(x-y).max())\nprint(\"bandwidth: %d\" % ((y - x).max() + (x - y).max() + 1))\nprint(B)"
      ]
    }
  ],
  "metadata": {
    "kernelspec": {
      "display_name": "Python 3",
      "language": "python",
      "name": "python3"
    },
    "language_info": {
      "codemirror_mode": {
        "name": "ipython",
        "version": 3
      },
      "file_extension": ".py",
      "mimetype": "text/x-python",
      "name": "python",
      "nbconvert_exporter": "python",
      "pygments_lexer": "ipython3",
      "version": "3.6.5"
    }
  },
  "nbformat": 4,
  "nbformat_minor": 0
}