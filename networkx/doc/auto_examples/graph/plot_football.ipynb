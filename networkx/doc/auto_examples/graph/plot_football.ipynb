{
  "cells": [
    {
      "cell_type": "code",
      "execution_count": null,
      "metadata": {
        "collapsed": false
      },
      "outputs": [],
      "source": [
        "%matplotlib inline"
      ]
    },
    {
      "cell_type": "markdown",
      "metadata": {},
      "source": [
        "\n# Football\n\n\nLoad football network in GML format and compute some network statistcs.\n\nShows how to download GML graph in a zipped file, unpack it, and load\ninto a NetworkX graph.\n\nRequires Internet connection to download the URL\nhttp://www-personal.umich.edu/~mejn/netdata/football.zip\n\n"
      ]
    },
    {
      "cell_type": "code",
      "execution_count": null,
      "metadata": {
        "collapsed": false
      },
      "outputs": [],
      "source": [
        "# Author: Aric Hagberg (hagberg@lanl.gov)\n\n#    Copyright (C) 2007-2018 by\n#    Aric Hagberg <hagberg@lanl.gov>\n#    Dan Schult <dschult@colgate.edu>\n#    Pieter Swart <swart@lanl.gov>\n#    All rights reserved.\n#    BSD license.\n\ntry:  # Python 3.x\n    import urllib.request as urllib\nexcept ImportError:  # Python 2.x\n    import urllib\nimport io\nimport zipfile\n\nimport matplotlib.pyplot as plt\nimport networkx as nx\n\nurl = \"http://www-personal.umich.edu/~mejn/netdata/football.zip\"\n\nsock = urllib.urlopen(url)  # open URL\ns = io.BytesIO(sock.read())  # read into BytesIO \"file\"\nsock.close()\n\nzf = zipfile.ZipFile(s)  # zipfile object\ntxt = zf.read('football.txt').decode()  # read info file\ngml = zf.read('football.gml').decode()  # read gml data\n# throw away bogus first line with # from mejn files\ngml = gml.split('\\n')[1:]\nG = nx.parse_gml(gml)  # parse gml data\n\nprint(txt)\n# print degree for each team - number of games\nfor n, d in G.degree():\n    print('%s %d' % (n, d))\n\noptions = {\n    'node_color': 'black',\n    'node_size': 50,\n    'line_color': 'grey',\n    'linewidths': 0,\n    'width': 0.1,\n}\nnx.draw(G, **options)\nplt.show()"
      ]
    }
  ],
  "metadata": {
    "kernelspec": {
      "display_name": "Python 3",
      "language": "python",
      "name": "python3"
    },
    "language_info": {
      "codemirror_mode": {
        "name": "ipython",
        "version": 3
      },
      "file_extension": ".py",
      "mimetype": "text/x-python",
      "name": "python",
      "nbconvert_exporter": "python",
      "pygments_lexer": "ipython3",
      "version": "3.6.5"
    }
  },
  "nbformat": 4,
  "nbformat_minor": 0
}