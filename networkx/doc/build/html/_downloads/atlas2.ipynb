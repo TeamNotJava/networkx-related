{
  "cells": [
    {
      "cell_type": "code",
      "execution_count": null,
      "metadata": {
        "collapsed": false
      },
      "outputs": [],
      "source": [
        "%matplotlib inline"
      ]
    },
    {
      "cell_type": "markdown",
      "metadata": {},
      "source": [
        "\n# Atlas2\n\n\nWrite first 20 graphs from the graph atlas as graphviz dot files\nGn.dot where n=0,19.\n\n"
      ]
    },
    {
      "cell_type": "code",
      "execution_count": null,
      "metadata": {
        "collapsed": false
      },
      "outputs": [],
      "source": [
        "# Author: Aric Hagberg (hagberg@lanl.gov)\n# Date: 2005-05-19 14:23:02 -0600 (Thu, 19 May 2005)\n\n#    Copyright (C) 2006-2018 by\n#    Aric Hagberg <hagberg@lanl.gov>\n#    Dan Schult <dschult@colgate.edu>\n#    Pieter Swart <swart@lanl.gov>\n#    All rights reserved.\n#    BSD license.\n\nimport networkx as nx\nfrom networkx.generators.atlas import graph_atlas_g\n\natlas = graph_atlas_g()[0:20]\n\nfor G in atlas:\n    print(\"graph %s has %d nodes with %d edges\"\n          % (G.name, nx.number_of_nodes(G), nx.number_of_edges(G)))\n    A = nx.nx_agraph.to_agraph(G)\n    A.graph_attr['label'] = G.name\n    # set default node attributes\n    A.node_attr['color'] = 'red'\n    A.node_attr['style'] = 'filled'\n    A.node_attr['shape'] = 'circle'\n    A.write(G.name + '.dot')"
      ]
    }
  ],
  "metadata": {
    "kernelspec": {
      "display_name": "Python 3",
      "language": "python",
      "name": "python3"
    },
    "language_info": {
      "codemirror_mode": {
        "name": "ipython",
        "version": 3
      },
      "file_extension": ".py",
      "mimetype": "text/x-python",
      "name": "python",
      "nbconvert_exporter": "python",
      "pygments_lexer": "ipython3",
      "version": "3.6.5"
    }
  },
  "nbformat": 4,
  "nbformat_minor": 0
}