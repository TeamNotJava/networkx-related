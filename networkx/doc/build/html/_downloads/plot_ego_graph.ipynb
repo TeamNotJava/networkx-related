{
  "cells": [
    {
      "cell_type": "code",
      "execution_count": null,
      "metadata": {
        "collapsed": false
      },
      "outputs": [],
      "source": [
        "%matplotlib inline"
      ]
    },
    {
      "cell_type": "markdown",
      "metadata": {},
      "source": [
        "\n# Ego Graph\n\n\nExample using the NetworkX ego_graph() function to return the main egonet of\nthe largest hub in a Barab\u00e1si-Albert network.\n\n"
      ]
    },
    {
      "cell_type": "code",
      "execution_count": null,
      "metadata": {
        "collapsed": false
      },
      "outputs": [],
      "source": [
        "# Author:  Drew Conway (drew.conway@nyu.edu)\n\nfrom operator import itemgetter\n\nimport matplotlib.pyplot as plt\nimport networkx as nx\n\nif __name__ == '__main__':\n    # Create a BA model graph\n    n = 1000\n    m = 2\n    G = nx.generators.barabasi_albert_graph(n, m)\n    # find node with largest degree\n    node_and_degree = G.degree()\n    (largest_hub, degree) = sorted(node_and_degree, key=itemgetter(1))[-1]\n    # Create ego graph of main hub\n    hub_ego = nx.ego_graph(G, largest_hub)\n    # Draw graph\n    pos = nx.spring_layout(hub_ego)\n    nx.draw(hub_ego, pos, node_color='b', node_size=50, with_labels=False)\n    # Draw ego as large and red\n    nx.draw_networkx_nodes(hub_ego, pos, nodelist=[largest_hub], node_size=300, node_color='r')\n    plt.show()"
      ]
    }
  ],
  "metadata": {
    "kernelspec": {
      "display_name": "Python 3",
      "language": "python",
      "name": "python3"
    },
    "language_info": {
      "codemirror_mode": {
        "name": "ipython",
        "version": 3
      },
      "file_extension": ".py",
      "mimetype": "text/x-python",
      "name": "python",
      "nbconvert_exporter": "python",
      "pygments_lexer": "ipython3",
      "version": "3.6.5"
    }
  },
  "nbformat": 4,
  "nbformat_minor": 0
}