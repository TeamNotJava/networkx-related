{
  "cells": [
    {
      "cell_type": "code",
      "execution_count": null,
      "metadata": {
        "collapsed": false
      },
      "outputs": [],
      "source": [
        "%matplotlib inline"
      ]
    },
    {
      "cell_type": "markdown",
      "metadata": {},
      "source": [
        "\n# Four Grids\n\n\nDraw a graph with matplotlib.\nYou must have matplotlib for this to work.\n\n"
      ]
    },
    {
      "cell_type": "code",
      "execution_count": null,
      "metadata": {
        "collapsed": false
      },
      "outputs": [],
      "source": [
        "# Author: Aric Hagberg (hagberg@lanl.gov)\n\n#    Copyright (C) 2004-2018\n#    Aric Hagberg <hagberg@lanl.gov>\n#    Dan Schult <dschult@colgate.edu>\n#    Pieter Swart <swart@lanl.gov>\n#    All rights reserved.\n#    BSD license.\n\nimport matplotlib.pyplot as plt\nimport networkx as nx\n\nG = nx.grid_2d_graph(4, 4)  # 4x4 grid\n\npos = nx.spring_layout(G, iterations=100)\n\nplt.subplot(221)\nnx.draw(G, pos, font_size=8)\n\nplt.subplot(222)\nnx.draw(G, pos, node_color='k', node_size=0, with_labels=False)\n\nplt.subplot(223)\nnx.draw(G, pos, node_color='g', node_size=250, with_labels=False, width=6)\n\nplt.subplot(224)\nH = G.to_directed()\nnx.draw(H, pos, node_color='b', node_size=20, with_labels=False)\n\nplt.show()"
      ]
    }
  ],
  "metadata": {
    "kernelspec": {
      "display_name": "Python 3",
      "language": "python",
      "name": "python3"
    },
    "language_info": {
      "codemirror_mode": {
        "name": "ipython",
        "version": 3
      },
      "file_extension": ".py",
      "mimetype": "text/x-python",
      "name": "python",
      "nbconvert_exporter": "python",
      "pygments_lexer": "ipython3",
      "version": "3.6.5"
    }
  },
  "nbformat": 4,
  "nbformat_minor": 0
}