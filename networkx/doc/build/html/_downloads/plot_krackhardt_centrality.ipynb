{
  "cells": [
    {
      "cell_type": "code",
      "execution_count": null,
      "metadata": {
        "collapsed": false
      },
      "outputs": [],
      "source": [
        "%matplotlib inline"
      ]
    },
    {
      "cell_type": "markdown",
      "metadata": {},
      "source": [
        "\n# Krackhardt Centrality\n\n\nCentrality measures of Krackhardt social network.\n\n"
      ]
    },
    {
      "cell_type": "code",
      "execution_count": null,
      "metadata": {
        "collapsed": false
      },
      "outputs": [],
      "source": [
        "# Author: Aric Hagberg (hagberg@lanl.gov)\n# Date: 2005-05-12 14:33:11 -0600 (Thu, 12 May 2005)\n# Revision: 998\n\n#    Copyright (C) 2004-2018 by\n#    Aric Hagberg <hagberg@lanl.gov>\n#    Dan Schult <dschult@colgate.edu>\n#    Pieter Swart <swart@lanl.gov>\n#    All rights reserved.\n#    BSD license.\n\nimport matplotlib.pyplot as plt\nimport networkx as nx\n\nG = nx.krackhardt_kite_graph()\n\nprint(\"Betweenness\")\nb = nx.betweenness_centrality(G)\nfor v in G.nodes():\n    print(\"%0.2d %5.3f\" % (v, b[v]))\n\nprint(\"Degree centrality\")\nd = nx.degree_centrality(G)\nfor v in G.nodes():\n    print(\"%0.2d %5.3f\" % (v, d[v]))\n\nprint(\"Closeness centrality\")\nc = nx.closeness_centrality(G)\nfor v in G.nodes():\n    print(\"%0.2d %5.3f\" % (v, c[v]))\n\nnx.draw(G)\nplt.show()"
      ]
    }
  ],
  "metadata": {
    "kernelspec": {
      "display_name": "Python 3",
      "language": "python",
      "name": "python3"
    },
    "language_info": {
      "codemirror_mode": {
        "name": "ipython",
        "version": 3
      },
      "file_extension": ".py",
      "mimetype": "text/x-python",
      "name": "python",
      "nbconvert_exporter": "python",
      "pygments_lexer": "ipython3",
      "version": "3.6.5"
    }
  },
  "nbformat": 4,
  "nbformat_minor": 0
}