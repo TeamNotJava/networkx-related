{
  "cells": [
    {
      "cell_type": "code",
      "execution_count": null,
      "metadata": {
        "collapsed": false
      },
      "outputs": [],
      "source": [
        "%matplotlib inline"
      ]
    },
    {
      "cell_type": "markdown",
      "metadata": {},
      "source": [
        "\n# Circular Tree\n\n\nThis\n\n"
      ]
    },
    {
      "cell_type": "code",
      "execution_count": null,
      "metadata": {
        "collapsed": false
      },
      "outputs": [],
      "source": [
        "import matplotlib.pyplot as plt\nimport networkx as nx\n\ntry:\n    import pygraphviz\n    from networkx.drawing.nx_agraph import graphviz_layout\nexcept ImportError:\n    try:\n        import pydot\n        from networkx.drawing.nx_pydot import graphviz_layout\n    except ImportError:\n        raise ImportError(\"This example needs Graphviz and either \"\n                          \"PyGraphviz or pydot\")\n\nG = nx.balanced_tree(3, 5)\npos = graphviz_layout(G, prog='twopi', args='')\nplt.figure(figsize=(8, 8))\nnx.draw(G, pos, node_size=20, alpha=0.5, node_color=\"blue\", with_labels=False)\nplt.axis('equal')\nplt.show()"
      ]
    }
  ],
  "metadata": {
    "kernelspec": {
      "display_name": "Python 3",
      "language": "python",
      "name": "python3"
    },
    "language_info": {
      "codemirror_mode": {
        "name": "ipython",
        "version": 3
      },
      "file_extension": ".py",
      "mimetype": "text/x-python",
      "name": "python",
      "nbconvert_exporter": "python",
      "pygments_lexer": "ipython3",
      "version": "3.6.5"
    }
  },
  "nbformat": 4,
  "nbformat_minor": 0
}