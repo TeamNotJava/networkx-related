{
  "cells": [
    {
      "cell_type": "code",
      "execution_count": null,
      "metadata": {
        "collapsed": false
      },
      "outputs": [],
      "source": [
        "%matplotlib inline"
      ]
    },
    {
      "cell_type": "markdown",
      "metadata": {},
      "source": [
        "\n# Lanl Routes\n\n\nRoutes to LANL from 186 sites on the Internet.\n\nThis uses Graphviz for layout so you need PyGraphviz or pydot.\n\n\n"
      ]
    },
    {
      "cell_type": "code",
      "execution_count": null,
      "metadata": {
        "collapsed": false
      },
      "outputs": [],
      "source": [
        "# Author: Aric Hagberg (hagberg@lanl.gov)\n\n#    Copyright (C) 2004-2018\n#    Aric Hagberg <hagberg@lanl.gov>\n#    Dan Schult <dschult@colgate.edu>\n#    Pieter Swart <swart@lanl.gov>\n#    All rights reserved.\n#    BSD license.\n\n\nimport matplotlib.pyplot as plt\nimport networkx as nx\ntry:\n    import pygraphviz\n    from networkx.drawing.nx_agraph import graphviz_layout\nexcept ImportError:\n    try:\n        import pydot\n        from networkx.drawing.nx_pydot import graphviz_layout\n    except ImportError:\n        raise ImportError(\"This example needs Graphviz and either \"\n                          \"PyGraphviz or pydot\")\n\ndef lanl_graph():\n    \"\"\" Return the lanl internet view graph from lanl.edges\n    \"\"\"\n    try:\n        fh = open('lanl_routes.edgelist', 'r')\n    except IOError:\n        print(\"lanl.edges not found\")\n        raise\n\n    G = nx.Graph()\n\n    time = {}\n    time[0] = 0  # assign 0 to center node\n    for line in fh.readlines():\n        (head, tail, rtt) = line.split()\n        G.add_edge(int(head), int(tail))\n        time[int(head)] = float(rtt)\n\n    # get largest component and assign ping times to G0time dictionary\n    G0 = sorted(nx.connected_component_subgraphs(G), key=len, reverse=True)[0]\n    G0.rtt = {}\n    for n in G0:\n        G0.rtt[n] = time[n]\n\n    return G0\n\n\nif __name__ == '__main__':\n\n    G = lanl_graph()\n\n    print(\"graph has %d nodes with %d edges\"\n          % (nx.number_of_nodes(G), nx.number_of_edges(G)))\n    print(nx.number_connected_components(G), \"connected components\")\n\n    plt.figure(figsize=(8, 8))\n    # use graphviz to find radial layout\n    pos = graphviz_layout(G, prog=\"twopi\", root=0)\n    # draw nodes, coloring by rtt ping time\n    nx.draw(G, pos,\n            node_color=[G.rtt[v] for v in G],\n            with_labels=False,\n            alpha=0.5,\n            node_size=15)\n    # adjust the plot limits\n    xmax = 1.02 * max(xx for xx, yy in pos.values())\n    ymax = 1.02 * max(yy for xx, yy in pos.values())\n    plt.xlim(0, xmax)\n    plt.ylim(0, ymax)\n    plt.show()"
      ]
    }
  ],
  "metadata": {
    "kernelspec": {
      "display_name": "Python 3",
      "language": "python",
      "name": "python3"
    },
    "language_info": {
      "codemirror_mode": {
        "name": "ipython",
        "version": 3
      },
      "file_extension": ".py",
      "mimetype": "text/x-python",
      "name": "python",
      "nbconvert_exporter": "python",
      "pygments_lexer": "ipython3",
      "version": "3.6.5"
    }
  },
  "nbformat": 4,
  "nbformat_minor": 0
}