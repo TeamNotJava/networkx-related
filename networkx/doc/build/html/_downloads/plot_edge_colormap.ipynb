{
  "cells": [
    {
      "cell_type": "code",
      "execution_count": null,
      "metadata": {
        "collapsed": false
      },
      "outputs": [],
      "source": [
        "%matplotlib inline"
      ]
    },
    {
      "cell_type": "markdown",
      "metadata": {},
      "source": [
        "\n# Edge Colormap\n\n\nDraw a graph with matplotlib, color edges.\nYou must have matplotlib>=87.7 for this to work.\n\n"
      ]
    },
    {
      "cell_type": "code",
      "execution_count": null,
      "metadata": {
        "collapsed": false
      },
      "outputs": [],
      "source": [
        "# Author: Aric Hagberg (hagberg@lanl.gov)\n\nimport matplotlib.pyplot as plt\nimport networkx as nx\n\nG = nx.star_graph(20)\npos = nx.spring_layout(G)\ncolors = range(20)\nnx.draw(G, pos, node_color='#A0CBE2', edge_color=colors,\n        width=4, edge_cmap=plt.cm.Blues, with_labels=False)\nplt.show()"
      ]
    }
  ],
  "metadata": {
    "kernelspec": {
      "display_name": "Python 3",
      "language": "python",
      "name": "python3"
    },
    "language_info": {
      "codemirror_mode": {
        "name": "ipython",
        "version": 3
      },
      "file_extension": ".py",
      "mimetype": "text/x-python",
      "name": "python",
      "nbconvert_exporter": "python",
      "pygments_lexer": "ipython3",
      "version": "3.6.5"
    }
  },
  "nbformat": 4,
  "nbformat_minor": 0
}