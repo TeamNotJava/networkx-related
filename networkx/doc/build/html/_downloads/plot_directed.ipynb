{
  "cells": [
    {
      "cell_type": "code",
      "execution_count": null,
      "metadata": {
        "collapsed": false
      },
      "outputs": [],
      "source": [
        "%matplotlib inline"
      ]
    },
    {
      "cell_type": "markdown",
      "metadata": {},
      "source": [
        "\n# Directed Graph\n\n\nDraw a graph with directed edges using a colormap and different node sizes.\n\nEdges have different colors and alphas (opacity). Drawn using matplotlib.\n\n"
      ]
    },
    {
      "cell_type": "code",
      "execution_count": null,
      "metadata": {
        "collapsed": false
      },
      "outputs": [],
      "source": [
        "# Author: Rodrigo Dorantes-Gilardi (rodgdor@gmail.com)\n\nfrom __future__ import division\nimport matplotlib.pyplot as plt\nimport networkx as nx\n\nG = nx.generators.directed.random_k_out_graph(10, 3, 0.5)\npos = nx.layout.spring_layout(G)\n\nnode_sizes = [3 + 10 * i for i in range(len(G))]\nM = G.number_of_edges()\nedge_colors = range(2, M + 2)\nedge_alphas = [(5 + i) / (M + 4) for i in range(M)]\n\nnodes = nx.draw_networkx_nodes(G, pos, node_size=node_sizes, node_color='blue')\nedges = nx.draw_networkx_edges(G, pos, node_size=node_sizes, arrowstyle='->',\n                               arrowsize=10, edge_color=edge_colors,\n                               edge_cmap=plt.cm.Blues, width=2)\n# set alpha value for each edge\nfor i in range(M):\n    edges[i].set_alpha(edge_alphas[i])\n\nax = plt.gca()\nax.set_axis_off()\nplt.show()"
      ]
    }
  ],
  "metadata": {
    "kernelspec": {
      "display_name": "Python 3",
      "language": "python",
      "name": "python3"
    },
    "language_info": {
      "codemirror_mode": {
        "name": "ipython",
        "version": 3
      },
      "file_extension": ".py",
      "mimetype": "text/x-python",
      "name": "python",
      "nbconvert_exporter": "python",
      "pygments_lexer": "ipython3",
      "version": "3.6.5"
    }
  },
  "nbformat": 4,
  "nbformat_minor": 0
}