{
  "cells": [
    {
      "cell_type": "code",
      "execution_count": null,
      "metadata": {
        "collapsed": false
      },
      "outputs": [],
      "source": [
        "%matplotlib inline"
      ]
    },
    {
      "cell_type": "markdown",
      "metadata": {},
      "source": [
        "\n# Erdos Renyi\n\n\nCreate an G{n,m} random graph with n nodes and m edges\nand report some properties.\n\nThis graph is sometimes called the Erd\u0151s-R\u00e9nyi graph\nbut is different from G{n,p} or binomial_graph which is also\nsometimes called the Erd\u0151s-R\u00e9nyi graph.\n\n"
      ]
    },
    {
      "cell_type": "code",
      "execution_count": null,
      "metadata": {
        "collapsed": false
      },
      "outputs": [],
      "source": [
        "# Author: Aric Hagberg (hagberg@lanl.gov)\n\n#    Copyright (C) 2004-2018 by\n#    Aric Hagberg <hagberg@lanl.gov>\n#    Dan Schult <dschult@colgate.edu>\n#    Pieter Swart <swart@lanl.gov>\n#    All rights reserved.\n#    BSD license.\n\nimport sys\n\nimport matplotlib.pyplot as plt\nfrom networkx import nx\n\nn = 10  # 10 nodes\nm = 20  # 20 edges\n\nG = nx.gnm_random_graph(n, m)\n\n# some properties\nprint(\"node degree clustering\")\nfor v in nx.nodes(G):\n    print('%s %d %f' % (v, nx.degree(G, v), nx.clustering(G, v)))\n\n# print the adjacency list to terminal\ntry:\n    nx.write_adjlist(G, sys.stdout)\nexcept TypeError:  # Python 3.x\n    nx.write_adjlist(G, sys.stdout.buffer)\n\nnx.draw(G)\nplt.show()"
      ]
    }
  ],
  "metadata": {
    "kernelspec": {
      "display_name": "Python 3",
      "language": "python",
      "name": "python3"
    },
    "language_info": {
      "codemirror_mode": {
        "name": "ipython",
        "version": 3
      },
      "file_extension": ".py",
      "mimetype": "text/x-python",
      "name": "python",
      "nbconvert_exporter": "python",
      "pygments_lexer": "ipython3",
      "version": "3.6.5"
    }
  },
  "nbformat": 4,
  "nbformat_minor": 0
}